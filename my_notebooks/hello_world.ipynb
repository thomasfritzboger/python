{
 "cells": [
  {
   "cell_type": "code",
   "execution_count": null,
   "id": "2718758e-ecb8-4f21-961c-1e78b2c00cd1",
   "metadata": {},
   "outputs": [],
   "source": [
    "print('Hello World')"
   ]
  },
  {
   "cell_type": "markdown",
   "id": "2f6ebf95-7bca-4240-b3fc-67aa82337365",
   "metadata": {},
   "source": [
    "This is a markdown"
   ]
  },
  {
   "cell_type": "code",
   "execution_count": null,
   "id": "c2494727-5269-46b3-b14e-7759bc93c793",
   "metadata": {},
   "outputs": [],
   "source": []
  }
 ],
 "metadata": {
  "kernelspec": {
   "display_name": "Python 3 (ipykernel)",
   "language": "python",
   "name": "python3"
  },
  "language_info": {
   "codemirror_mode": {
    "name": "ipython",
    "version": 3
   },
   "file_extension": ".py",
   "mimetype": "text/x-python",
   "name": "python",
   "nbconvert_exporter": "python",
   "pygments_lexer": "ipython3",
   "version": "3.10.6"
  }
 },
 "nbformat": 4,
 "nbformat_minor": 5
}
