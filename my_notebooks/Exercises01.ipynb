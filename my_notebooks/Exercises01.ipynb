{
 "cells": [
  {
   "attachments": {},
   "cell_type": "markdown",
   "metadata": {},
   "source": [
    "Part 1\n",
    "\n",
    "Create 5 list comprehensions to solve the following 5 problems:\n",
    "\n",
    "Iterate a list of names to return a list of the names starting with H\n",
    "\n",
    "In one line create a list of the numbers 1-100 to the power of 3\n",
    "\n",
    "Iterate a list of names to create a list of tuples where the tuples first value is the length of the name and the second is the name\n",
    "\n",
    "Iterate over each character in a string and get only those that are nummeric\n",
    "\n",
    "Using only a list comprehension wrapped in set() get all possible combinations from throwing 2 dice (hint use 2 for loops in a single list comprehension). Result should look like: [2,3,4,5,6,7,8,...] or a more complex/accurate solution: [(1,1),(1,2)...] in a way that (1,2) is equal to (2,1).\n",
    "\n",
    "Part 2\n",
    "\n",
    "Create 2 dictionary comprehensions to solve the following:\n",
    "\n",
    "Iterate a list of names and create a dictionary where key is the name and value is the length of the name\n",
    "\n",
    "Iterate a list of numbers and create a dictionary with {key:value} being {number:squareroot_of_number}\n",
    "\n",
    "Extra assignment (This one goes beyond what is covered in the course notebooks. So only do it if you want an extra challenge).\n",
    "\n",
    "Progammatically using loops create a small program to produce a dictionary with all the 2 dice throw combinations as keys (eg: 2,3,4...etc) and their likelyhood in percent as values"
   ]
  },
  {
   "cell_type": "code",
   "execution_count": null,
   "metadata": {},
   "outputs": [],
   "source": [
    "names = list((\"Danny\",\"Winnie\",\"Aase\",\"Hans\",\"Henrik\"))\n",
    "\n",
    "h_names = [name for name in names if name.startswith(\"H\")]\n",
    "print(h_names)"
   ]
  },
  {
   "cell_type": "code",
   "execution_count": null,
   "metadata": {},
   "outputs": [],
   "source": [
    "numbers_to_power3 = [x**3 for x in range(1,101)]\n",
    "print(numbers_to_power3)"
   ]
  },
  {
   "cell_type": "code",
   "execution_count": null,
   "metadata": {},
   "outputs": [],
   "source": [
    "names_with_length = [(len(name),name) for name in names ]\n",
    "print(names_with_length)"
   ]
  },
  {
   "cell_type": "code",
   "execution_count": null,
   "metadata": {},
   "outputs": [],
   "source": [
    "string = \"1sewe4564tfsdasg\"\n",
    "numbers_from_string = [char for char in string if char.isdigit()]\n",
    "print(numbers_from_string)"
   ]
  },
  {
   "cell_type": "code",
   "execution_count": null,
   "metadata": {},
   "outputs": [],
   "source": [
    "combinations = set((min(d1,d2), max(d1,d2)) for d1 in range(1,7) for d2 in range(1,7) )\n",
    "print(combinations)\n",
    "print(len(combinations))"
   ]
  },
  {
   "cell_type": "code",
   "execution_count": 18,
   "metadata": {},
   "outputs": [
    {
     "name": "stdout",
     "output_type": "stream",
     "text": [
      "{'Danny': 5, 'Winnie': 6, 'Aase': 4, 'Hans': 4, 'Henrik': 6}\n"
     ]
    }
   ],
   "source": [
    "names_dict = {name:len(name) for name in names}\n",
    "print(names_dict)"
   ]
  },
  {
   "cell_type": "code",
   "execution_count": 27,
   "metadata": {},
   "outputs": [
    {
     "name": "stdout",
     "output_type": "stream",
     "text": [
      "{1: 1.0, 2: 1.41, 3: 1.73, 4: 2.0, 5: 2.24, 6: 2.45}\n"
     ]
    }
   ],
   "source": [
    "numbers_dict = {number:round(number**0.5,2) for number in range(1,7)}\n",
    "print(numbers_dict)"
   ]
  }
 ],
 "metadata": {
  "kernelspec": {
   "display_name": "base",
   "language": "python",
   "name": "python3"
  },
  "language_info": {
   "codemirror_mode": {
    "name": "ipython",
    "version": 3
   },
   "file_extension": ".py",
   "mimetype": "text/x-python",
   "name": "python",
   "nbconvert_exporter": "python",
   "pygments_lexer": "ipython3",
   "version": "3.10.6"
  },
  "orig_nbformat": 4,
  "vscode": {
   "interpreter": {
    "hash": "d4d1e4263499bec80672ea0156c357c1ee493ec2b1c70f0acce89fc37c4a6abe"
   }
  }
 },
 "nbformat": 4,
 "nbformat_minor": 2
}
