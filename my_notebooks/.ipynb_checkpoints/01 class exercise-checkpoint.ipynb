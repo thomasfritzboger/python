{
 "cells": [
  {
   "cell_type": "markdown",
   "id": "360d5079-bb24-4dcb-9e16-d88838513f52",
   "metadata": {},
   "source": [
    "# Class exercise 1\n",
    "\n",
    "![](https://miro.medium.com/max/1266/1*Pb8oEA1nGIONsSJk7QSVzg.png)"
   ]
  },
  {
   "cell_type": "code",
   "execution_count": null,
   "id": "59d1f4dd-a86c-4d80-8cd7-16cdc6c52fd1",
   "metadata": {
    "tags": []
   },
   "outputs": [],
   "source": [
    "print(\"Enter a number\")\n",
    "x = int(input())\n",
    "print(\"Enter another number\")\n",
    "y = int(input())\n",
    "sum = x + y\n",
    "print(\"The sum is \" + str(sum))"
   ]
  },
  {
   "cell_type": "code",
   "execution_count": null,
   "id": "20b5bed3-a23c-4a28-a4b8-d76394feb5b3",
   "metadata": {
    "tags": []
   },
   "outputs": [],
   "source": []
  }
 ],
 "metadata": {
  "kernelspec": {
   "display_name": "Python 3 (ipykernel)",
   "language": "python",
   "name": "python3"
  },
  "language_info": {
   "codemirror_mode": {
    "name": "ipython",
    "version": 3
   },
   "file_extension": ".py",
   "mimetype": "text/x-python",
   "name": "python",
   "nbconvert_exporter": "python",
   "pygments_lexer": "ipython3",
   "version": "3.10.6"
  }
 },
 "nbformat": 4,
 "nbformat_minor": 5
}
