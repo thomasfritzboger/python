{
 "cells": [
  {
   "cell_type": "markdown",
   "id": "f9d36b98-8095-4de4-a99c-3079445e06c8",
   "metadata": {},
   "source": [
    "# Week 1: Sequence, Dict, Set\n",
    "1. Create a list of first names as strings (size 10)\n",
    "2. Print \"Hello \" + name for all 10 names\n",
    "3. With list comprehension add a last name to each name in the list and save in new variable\n",
    "4. Create 2 new lists of equal size to names containing lastnames and ages and zip names, lastnames and ages\n",
    "5. With a dictionary comprehension create a dict with an id as key and (firstname, lastname, age) as value (in a tuple)\n",
    "6. Loop over list of names and create a dictionary with {name:len(names)} (use the .setdefault method)\n",
    "7. Sort the dictionary by length of names\n",
    "8. Create a for loop that can populate a dictionary from 2 sets (student_name (key) and student_address (value))"
   ]
  },
  {
   "cell_type": "code",
   "execution_count": 4,
   "id": "b3bcf33b-8c08-4e36-936f-513667c5918a",
   "metadata": {},
   "outputs": [
    {
     "name": "stdout",
     "output_type": "stream",
     "text": [
      "Hello Anders\n",
      "Hello Bo\n",
      "Hello Charlie\n",
      "Hello Denis\n",
      "Hello Erik\n",
      "Hello Frede\n",
      "Hello George\n",
      "Hello Henrik\n",
      "Hello Ingvar\n",
      "Hello Jens\n",
      "['Anders Jensen', 'Bo Jensen', 'Charlie Jensen', 'Denis Jensen', 'Erik Jensen', 'Frede Jensen', 'George Jensen', 'Henrik Jensen', 'Ingvar Jensen', 'Jens Jensen']\n",
      "[('Anders', 'Andersen', 22), ('Bo', 'Boesen', 25), ('Charlie', 'Christensen', 43), ('Denis', 'Dallerup', 31), ('Erik', 'Eriksen', 55), ('Frede', 'Frederiksen', 37), ('George', 'Glad', 82), ('Henrik', 'Henriksen', 11), ('Ingvar', 'Ingvarsen', 22), ('Jens', 'Jensen', 55)]\n",
      "{1: ('Anders', 'Andersen', 22), 2: ('Bo', 'Boesen', 25), 3: ('Charlie', 'Christensen', 43), 4: ('Denis', 'Dallerup', 31), 5: ('Erik', 'Eriksen', 55), 6: ('Frede', 'Frederiksen', 37), 7: ('George', 'Glad', 82), 8: ('Henrik', 'Henriksen', 11), 9: ('Ingvar', 'Ingvarsen', 22), 10: ('Jens', 'Jensen', 55)}\n",
      "{'Anders': 6, 'Bo': 2, 'Charlie': 7, 'Denis': 5, 'Erik': 4, 'Frede': 5, 'George': 6, 'Henrik': 6, 'Ingvar': 6, 'Jens': 4}\n",
      "{'Bo': 2, 'Erik': 4, 'Jens': 4, 'Denis': 5, 'Frede': 5, 'Anders': 6, 'George': 6, 'Henrik': 6, 'Ingvar': 6, 'Charlie': 7}\n",
      "{'A7', 'A8', 'A1', 'A9', 'A3', 'A10', 'A2', 'A6', 'A5', 'A4'}\n",
      "#8\n",
      "{'Bo': 'A7', 'Ingvar': 'A8', 'Charlie': 'A1', 'Denis': 'A9', 'Anders': 'A3', 'Henrik': 'A10', 'Frede': 'A2', 'George': 'A6', 'Jens': 'A5', 'Erik': 'A4'}\n"
     ]
    }
   ],
   "source": [
    "#1 Create a list of first names as strings (size 10)\n",
    "names = [\"Anders\",\"Bo\",\"Charlie\",\"Denis\",\"Erik\",\"Frede\",\"George\",\"Henrik\",\"Ingvar\",\"Jens\"]\n",
    "\n",
    "#2 Print \"Hello \" + name for all 10 names\n",
    "for name in names:\n",
    "    print('Hello ' + name)\n",
    "\n",
    "#3 With list comprehension add a last name to each name in the list and save in new variable\n",
    "new_names = [name + ' ' + 'Jensen' for name in names]\n",
    "print(new_names)\n",
    "\n",
    "#4 Create 2 new lists of equal size to names containing lastnames and ages and zip names, lastnames and ages\n",
    "last_names = [\"Andersen\",\"Boesen\",\"Christensen\",\"Dallerup\",\"Eriksen\",\"Frederiksen\",\"Glad\",\"Henriksen\",\"Ingvarsen\",\"Jensen\"]\n",
    "ages = [22,25,43,31,55,37,82,11,22,55]\n",
    "\n",
    "with_ages = [name for name in zip(names,last_names,ages)]\n",
    "print(with_ages)\n",
    "\n",
    "#5 With a dictionary comprehension create a dict with an id as key and (firstname, lastname, age) as value (in a tuple)\n",
    "name_map = {idx:name for idx,name in zip(range(1,11),with_ages)}\n",
    "print(name_map)\n",
    "\n",
    "#6 Loop over list of names and create a dictionary with {name:len(names)} (use the .setdefault method)\n",
    "my_dictionary = {}\n",
    "for name in names:\n",
    "    my_dictionary.setdefault(name,len(name))\n",
    "print(my_dictionary)\n",
    "\n",
    "#7 Sort the dictionary by length of names\n",
    "my_dictionary_sorted = dict(sorted(my_dictionary.items(),key=lambda item: item[1]))\n",
    "print(my_dictionary_sorted)\n",
    "\n",
    "#8 Create a for loop that can populate a dictionary from 2 sets (student_name (key) and student_address (value))\n",
    "first_names_set = set(names)\n",
    "address_set = {\"A1\",\"A2\",\"A3\",\"A4\",\"A5\",\"A6\",\"A7\",\"A8\",\"A9\",\"A10\"}\n",
    "print(address_set)\n",
    "\n",
    "my_address_dict = {}\n",
    "for name,address in zip(first_names_set,address_set):\n",
    "    my_address_dict[name] = address\n",
    "\n",
    "print('#8')\n",
    "print(my_address_dict)"
   ]
  }
 ],
 "metadata": {
  "kernelspec": {
   "display_name": "Python 3 (ipykernel)",
   "language": "python",
   "name": "python3"
  },
  "language_info": {
   "codemirror_mode": {
    "name": "ipython",
    "version": 3
   },
   "file_extension": ".py",
   "mimetype": "text/x-python",
   "name": "python",
   "nbconvert_exporter": "python",
   "pygments_lexer": "ipython3",
   "version": "3.10.6"
  },
  "vscode": {
   "interpreter": {
    "hash": "d4d1e4263499bec80672ea0156c357c1ee493ec2b1c70f0acce89fc37c4a6abe"
   }
  }
 },
 "nbformat": 4,
 "nbformat_minor": 5
}
