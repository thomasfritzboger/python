{
 "cells": [
  {
   "cell_type": "markdown",
   "id": "360d5079-bb24-4dcb-9e16-d88838513f52",
   "metadata": {},
   "source": [
    "# Class exercise 1\n",
    "\n",
    "![](https://miro.medium.com/max/1266/1*Pb8oEA1nGIONsSJk7QSVzg.png)"
   ]
  },
  {
   "cell_type": "code",
   "execution_count": null,
   "id": "59d1f4dd-a86c-4d80-8cd7-16cdc6c52fd1",
   "metadata": {
    "tags": []
   },
   "outputs": [],
   "source": [
    "print(\"Enter a number\")\n",
    "x = int(input())\n",
    "print(\"Enter another number\")\n",
    "y = int(input())\n",
    "sum = x + y\n",
    "print(\"The sum is \" + str(sum))"
   ]
  },
  {
   "attachments": {},
   "cell_type": "markdown",
   "id": "c7ff5060",
   "metadata": {},
   "source": [
    "# Exercises\n",
    "\n",
    "![get_started](https://s-media-cache-ak0.pinimg.com/originals/9f/73/e3/9f73e3f8a958dbe03b0f76f8811a54a1.gif)\n",
    "\n",
    "  1. Use the `range()` function to make a list of the odd numbers from 1 to 20. **Hint** in ipython and this notebooks you can see a functions help text by executing for example `range?`\n",
    "  2. Create a list with the even number values from two to one million. Use `min(list)` and `max(list)` to make sure your list actually starts at two and ends at one million. Also, use the `sum(list)` function to compute the sum of all values.\n",
    "  3. Create a list of the multiples of 3 - going from 3 to 300. **HINT: USE A LIST COMPREHENSION**\n",
    "  4. A number raised to the third power is called a cube. For example, the cube of 2 is written as `2**3` in Python. Create a list of the first 10 cubes (that is, the cube of each integer from 1 through 10)."
   ]
  },
  {
   "cell_type": "code",
   "execution_count": null,
   "id": "0729a830",
   "metadata": {},
   "outputs": [],
   "source": [
    "odd_numbers = [x for x in range(1,21) if x%2 != 0]\n",
    "print(odd_numbers)\n",
    "\n",
    "even_numbers = [x for x in range(2,1000001) if x%2 ==0]\n",
    "print(len(even_numbers))\n",
    "print(min(even_numbers))\n",
    "print(max(even_numbers))\n",
    "print(sum(even_numbers))\n",
    "\n",
    "multiples_of_3 = [x*3 for x in range(1,101)]\n",
    "print(min(multiples_of_3))\n",
    "print(max(multiples_of_3))\n",
    "print(len(multiples_of_3))\n",
    "\n",
    "cubes = [x**3 for x in range(1,11)]\n",
    "print(cubes)\n"
   ]
  },
  {
   "attachments": {},
   "cell_type": "markdown",
   "id": "8d750e5e",
   "metadata": {},
   "source": [
    "# Exercises!!!\n",
    "\n",
    "![image](https://i.makeagif.com/media/2-03-2015/0GlCUD.gif)\n",
    "\n",
    "#### Date Decoder. \n",
    "1. A date of the form 8-MAR-85 includes the name of the month, which must be translated to a number. \n",
    "2. Create a dict suitable for decoding month names to numbers. \n",
    "3. use string operations to split the date into 3 items using the \"-\" character. \n",
    "4. Translate the month and return a tuple.\n",
    "5. In the end we have a date \"dd-MMM-yy\" format and we get a new string \"d-m-y\""
   ]
  },
  {
   "cell_type": "code",
   "execution_count": 2,
   "id": "05bc4962",
   "metadata": {},
   "outputs": [
    {
     "name": "stdout",
     "output_type": "stream",
     "text": [
      "('8', '3', '85')\n",
      "8-3-85\n"
     ]
    }
   ],
   "source": [
    "months = {1:\"JAN\", 2:\"FEB\", 3:\"MAR\", 4:\"APR\", 5:\"MAY\", 6:\"JUN\", 7:\"JUL\", 8:\"AUG\", 9:\"SEP\", 10:\"OCT\", 11:\"NOV\", 12:\"DEC\"}\n",
    "date_string = \"8-MAR-85\"\n",
    "date = (date_string.split('-'))\n",
    "\n",
    "month = {i for i in months if months[i] == date[1]}\n",
    "month = str(list(month)[0])\n",
    "date[1] = month\n",
    "tuple_date = tuple(date)\n",
    "print(tuple_date)\n",
    "\n",
    "new_date_string = \"-\".join(tuple_date)\n",
    "print(new_date_string)\n",
    "\n"
   ]
  },
  {
   "attachments": {},
   "cell_type": "markdown",
   "id": "b964974f",
   "metadata": {},
   "source": [
    "# Exercises!!!\n",
    "\n",
    "![image](https://media.giphy.com/media/13HgwGsXF0aiGY/giphy.gif)\n",
    "\n",
    "  1. Write a program that creates gramatically valid English sentences.\n",
    "    * Here, we consider a sentence to be gramatically correct when it follows the simple English grammar of the form: `Article Adjective Noun Verb.` That is, even the sentence `A insect fly.` is, for the moment, considered correct. Use the files inside the data folder: nouns, verbs and adjectives. HINT: read them at put content into 3 lists.\n",
    "  2. Extend the above program to generate all possible sentences with the given words."
   ]
  },
  {
   "cell_type": "code",
   "execution_count": 1,
   "id": "9c3b7f42",
   "metadata": {},
   "outputs": [
    {
     "name": "stdout",
     "output_type": "stream",
     "text": [
      "['other', 'new', 'good', 'high', 'old', 'great', 'big', 'American', 'small', 'large', 'national', 'young', 'different', 'black', 'long', 'little', 'important', 'political', 'bad', 'white', 'real', 'best', 'right', 'social', 'only', 'public', 'sure', 'low', 'early', 'able', 'human', 'local', 'late', 'hard', 'major', 'better', 'economic', 'strong', 'possible', 'whole', 'free', 'military', 'true', 'federal', 'international', 'full', 'special', 'easy', 'clear', 'recent', 'certain', 'personal', 'open', 'red', 'difficult', 'available', 'likely', 'short', 'single', 'medical', 'current', 'wrong', 'private', 'past', 'foreign', 'fine', 'common', 'poor', 'natural', 'significant', 'similar', 'hot', 'dead', 'central', 'happy', 'serious', 'ready', 'simple', 'left', 'physical', 'general', 'environmental', 'financial', 'blue', 'democratic', 'dark', 'various', 'entire', 'close', 'legal', 'religious', 'cold', 'final', 'main', 'green', 'nice', 'huge', 'popular', 'traditional', 'cultural', '', '']\n",
      "economic\n",
      "['political', 'student', 'tell']\n",
      "['environmental', 'thing', 'leave']\n",
      "['traditional', 'problem', 'lead']\n",
      "['local', 'world', 'set']\n",
      "['simple', 'student', 'allow']\n",
      "['important', 'family', 'have']\n",
      "['public', 'others', 'will']\n",
      "['easy', 'member', 'set']\n",
      "['ready', 'head', 'watch']\n",
      "['medical', 'friend', 'happen']\n",
      "102\n",
      "100\n",
      "100\n",
      "1020000\n"
     ]
    }
   ],
   "source": [
    "import random\n",
    "import itertools\n",
    "from itertools import product\n",
    "\n",
    "with open('../data/verbs') as verbs_file:\n",
    "    verbs = verbs_file.read().split('\\n')\n",
    "#print(verbs)\n",
    "\n",
    "with open('../data/nouns') as nouns_file:\n",
    "    nouns = nouns_file.read().split('\\n')\n",
    "#print(nouns)\n",
    "\n",
    "with open('../data/adjectives') as adjectives_file:\n",
    "    adjectives = adjectives_file.read().split('\\n')\n",
    "print(adjectives)\n",
    "\n",
    "lists = [adjectives, nouns, verbs]\n",
    "\n",
    "sentence = random.choice(adjectives)\n",
    "print(sentence)\n",
    "\n",
    "samples = []\n",
    "for x in range(1,11):\n",
    "    for i in lists:\n",
    "        samples.extend(random.sample(i, 1))\n",
    "    print(samples)\n",
    "    samples = []\n",
    "\n",
    "unique_combinations = []\n",
    "\n",
    "#for x in range(0,len(adjectives)):\n",
    "#    for y in range(0,len(nouns)):\n",
    "#        for z in range(0,len(verbs)):\n",
    "#            unique_combinations.append([adjectives[x],nouns[y],verbs[z]])\n",
    "            \n",
    "\n",
    "\n",
    "unique_combinations = list(itertools.product(adjectives, nouns, verbs))\n",
    "\n",
    "print(len(adjectives))\n",
    "print(len(verbs))\n",
    "print(len(nouns))\n",
    " \n",
    "print(len(unique_combinations))\n",
    "\n",
    "\n",
    "\n"
   ]
  }
 ],
 "metadata": {
  "kernelspec": {
   "display_name": "Python 3 (ipykernel)",
   "language": "python",
   "name": "python3"
  },
  "language_info": {
   "codemirror_mode": {
    "name": "ipython",
    "version": 3
   },
   "file_extension": ".py",
   "mimetype": "text/x-python",
   "name": "python",
   "nbconvert_exporter": "python",
   "pygments_lexer": "ipython3",
   "version": "3.10.6"
  },
  "vscode": {
   "interpreter": {
    "hash": "d4d1e4263499bec80672ea0156c357c1ee493ec2b1c70f0acce89fc37c4a6abe"
   }
  }
 },
 "nbformat": 4,
 "nbformat_minor": 5
}
