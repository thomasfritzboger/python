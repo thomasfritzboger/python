{
 "cells": [
  {
   "attachments": {},
   "cell_type": "markdown",
   "metadata": {},
   "source": [
    "## Exercise\n",
    "![](https://media.giphy.com/media/o0vwzuFwCGAFO/giphy.gif)\n",
    "\n",
    "1. Write a function that iterates through a list and prints each value **without using a loop**.  \n",
    "That is, write a recursive function to print the values of a list.\n",
    "2. Write a function that can take any number of arguments and return all arguments concatenated or summed depending on the data type"
   ]
  },
  {
   "cell_type": "code",
   "execution_count": null,
   "metadata": {},
   "outputs": [],
   "source": [
    "items = list((\"Hans\",5,True))\n",
    "\n",
    "def write_item(list):\n",
    "    if not list: \n",
    "        return\n",
    "    print(list[0])\n",
    "    return write_item(list[1:])\n",
    "\n",
    "write_item(items)\n",
    "\n",
    "def write_args(*args):\n",
    "    res_str = \"\"\n",
    "    res_sum = 0\n",
    "    for arg in args:\n",
    "        if isinstance(arg, str):\n",
    "            res_str += arg + ' '\n",
    "        elif isinstance(arg, (int, float)):\n",
    "            res_sum += arg\n",
    "    \n",
    "    return (res_str.rstrip(), res_sum)\n",
    "\n",
    "write_args(\"Hanas\", 44,\"Bananas\", 5,7,\"is\",\"great\",3.6)"
   ]
  },
  {
   "cell_type": "code",
   "execution_count": null,
   "metadata": {},
   "outputs": [],
   "source": []
  }
 ],
 "metadata": {
  "kernelspec": {
   "display_name": "base",
   "language": "python",
   "name": "python3"
  },
  "language_info": {
   "codemirror_mode": {
    "name": "ipython",
    "version": 3
   },
   "file_extension": ".py",
   "mimetype": "text/x-python",
   "name": "python",
   "nbconvert_exporter": "python",
   "pygments_lexer": "ipython3",
   "version": "3.10.6"
  },
  "orig_nbformat": 4,
  "vscode": {
   "interpreter": {
    "hash": "d4d1e4263499bec80672ea0156c357c1ee493ec2b1c70f0acce89fc37c4a6abe"
   }
  }
 },
 "nbformat": 4,
 "nbformat_minor": 2
}
