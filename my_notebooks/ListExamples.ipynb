{
 "cells": [
  {
   "attachments": {},
   "cell_type": "markdown",
   "metadata": {},
   "source": [
    "<h2>Lists</h2>"
   ]
  },
  {
   "attachments": {},
   "cell_type": "markdown",
   "metadata": {},
   "source": [
    "<h4>List is one of 6 sequence types i Python</h4>\n",
    "<h4>A List is ordered</h4>\n",
    "<h4>A list may contain different datatypes, even other lists</h4>"
   ]
  },
  {
   "cell_type": "code",
   "execution_count": 1,
   "metadata": {},
   "outputs": [
    {
     "name": "stdout",
     "output_type": "stream",
     "text": [
      "The length of the list is: 4\n"
     ]
    }
   ],
   "source": [
    "items = [\"Anders\",5,True,[\"Kim\",8]]\n",
    "\n",
    "print('The length of the list is: '+str(len(items))) #4"
   ]
  },
  {
   "attachments": {},
   "cell_type": "markdown",
   "metadata": {},
   "source": [
    "<h4>Using list() constructor to make a List:</h4>"
   ]
  },
  {
   "cell_type": "code",
   "execution_count": 2,
   "metadata": {},
   "outputs": [
    {
     "name": "stdout",
     "output_type": "stream",
     "text": [
      "This list is made using list() constructor [3, 5, 7, 9, 14, 16]\n"
     ]
    }
   ],
   "source": [
    "constructed_list = list((3,5,7,9,14,16))\n",
    "print('This list is made using list() constructor '+str(constructed_list))"
   ]
  },
  {
   "attachments": {},
   "cell_type": "markdown",
   "metadata": {},
   "source": [
    "\n",
    "<h4>List can contain identical items</h4>\n",
    "<h4>List can copied by copy()</h4>\n",
    "If syntax another_list = my_list is used, changes to either list applies to both!!\n"
   ]
  },
  {
   "cell_type": "code",
   "execution_count": 3,
   "metadata": {},
   "outputs": [
    {
     "name": "stdout",
     "output_type": "stream",
     "text": [
      "List can contain identical items as shown here: [1, 4, 9, 9, 16, 25]\n",
      "By \"another_list = my_list.copy()\", the list is a copied list from my_list[1, 4, 9, 9, 16, 25]\n",
      "By \"a_third_list = my_list\" and \"my_list.clear()\", this is what will happen: \n",
      "my_third_list is also cleared: []\n",
      "another_list is not changed: [1, 4, 9, 9, 16, 25]\n"
     ]
    }
   ],
   "source": [
    "my_list = list((1,4,9,9,16,25))\n",
    "print('List can contain identical items as shown here: ' + str(my_list)) \n",
    "\n",
    "another_list = my_list.copy()\n",
    "print('By \"another_list = my_list.copy()\", the list is a copied list from my_list' + str(another_list))\n",
    "\n",
    "a_third_list = my_list\n",
    "my_list.clear()\n",
    "print('By \"a_third_list = my_list\" and \"my_list.clear()\", this is what will happen: ')\n",
    "print('my_third_list is also cleared: ' + str(a_third_list))\n",
    "print('another_list is not changed: ' + str(another_list))"
   ]
  },
  {
   "cell_type": "markdown",
   "metadata": {},
   "source": [
    "<h4>To check if list contains specific item</h4>"
   ]
  },
  {
   "cell_type": "code",
   "execution_count": 4,
   "metadata": {},
   "outputs": [
    {
     "name": "stdout",
     "output_type": "stream",
     "text": [
      "16 is in this list\n"
     ]
    }
   ],
   "source": [
    "my_list = list((2,4,8,16,32))\n",
    "if 16 in my_list:\n",
    "    print(\"16 is in this list\")"
   ]
  },
  {
   "attachments": {},
   "cell_type": "markdown",
   "metadata": {},
   "source": [
    "<h3>Adding and changing items</h3> \n",
    "<h4>Adding items by: insert(index, item) append(item) extend(another_list)</h4> \n",
    "\n",
    "Using index: my_list[index]\n",
    "\n",
    "\n",
    "\n",
    "\n"
   ]
  },
  {
   "cell_type": "code",
   "execution_count": 5,
   "metadata": {},
   "outputs": [
    {
     "name": "stdout",
     "output_type": "stream",
     "text": [
      "[1, 4, 9, 16, 25]\n",
      "To access an item use the index, \"my_list[1]\" which is: 4\n",
      "By: \"my_list[1] = 9\", the item on index 1 is now changed: 9\n",
      "List can contain identical items as shown here: [1, 9, 9, 16, 25]\n",
      "By \"my_list.insert(1,4)\" will insert 4 on index 1 giving: [1, 4, 9, 9, 16, 25]\n",
      "By \"my_list.append(36)\", I have appended 36 to my_list: [1, 4, 9, 9, 16, 25, 36]\n",
      "by \"my_list.extend(my_list)\", I have extended my_list with my_list: [1, 4, 9, 9, 16, 25, 36, 1, 4, 9, 9, 16, 25, 36]\n"
     ]
    }
   ],
   "source": [
    "my_list = list((1,4,9,16,25))\n",
    "\n",
    "print(my_list)\n",
    "print('To access an item use the index, \"my_list[1]\" which is: ' + str(my_list[1]))\n",
    "\n",
    "my_list[1] = 9 \n",
    "\n",
    "print('By: \"my_list[1] = 9\", the item on index 1 is now changed: ' + str(my_list[1])) \n",
    "\n",
    "print('List can contain identical items as shown here: ' + str(my_list)) \n",
    "\n",
    "my_list.insert(1,4)\n",
    "print('By \"my_list.insert(1,4)\" will insert 4 on index 1 giving: ' + str(my_list))\n",
    "\n",
    "my_list.append(36)\n",
    "print('By \"my_list.append(36)\", I have appended 36 to my_list: ' + str(my_list))\n",
    "\n",
    "my_list.extend(my_list)\n",
    "print('by \"my_list.extend(my_list)\", I have extended my_list with my_list: ' + str(my_list))\n",
    "\n"
   ]
  },
  {
   "attachments": {},
   "cell_type": "markdown",
   "metadata": {},
   "source": [
    "<h4>Removing items: pop(index), remove(item), clear() and del my_list[index]</h4>\n",
    "pop(index) will remove item on index, if no number last item is removed<br>\n",
    "remove(first item) if dublets of items remove in a for loop\n",
    "<br><br>\n",
    "my_list.clear() will empty the list but still keep it\n",
    "<br><br>\n",
    "del my_list[1] will delete item on index 1, <br>del my_list will delete entire list"
   ]
  },
  {
   "cell_type": "code",
   "execution_count": 137,
   "metadata": {},
   "outputs": [
    {
     "name": "stdout",
     "output_type": "stream",
     "text": [
      "[1, 4, 9, 9, 16, 25]\n",
      "by \"my_list.pop(1)\", I have removed item on index 1: [1, 9, 9, 16, 25]\n",
      "By \"my_list.pop()\", I have removed the last item: [1, 9, 9, 16]\n",
      "By \"my_list.remove(9)\", I have removed first 9 in list, giving: [1, 9, 16]\n",
      "By \"del my_list[0]\", I have removed item on index 0: [9, 16]\n",
      "By \"my_list.clear()\", I have cleared my_list: []\n"
     ]
    },
    {
     "ename": "NameError",
     "evalue": "name 'my_list' is not defined",
     "output_type": "error",
     "traceback": [
      "\u001b[0;31m---------------------------------------------------------------------------\u001b[0m",
      "\u001b[0;31mNameError\u001b[0m                                 Traceback (most recent call last)",
      "Cell \u001b[0;32mIn [137], line 14\u001b[0m\n\u001b[1;32m     12\u001b[0m \u001b[39mprint\u001b[39m(\u001b[39m'\u001b[39m\u001b[39mBy \u001b[39m\u001b[39m\"\u001b[39m\u001b[39mmy_list.clear()\u001b[39m\u001b[39m\"\u001b[39m\u001b[39m, I have cleared my_list: \u001b[39m\u001b[39m'\u001b[39m \u001b[39m+\u001b[39m \u001b[39mstr\u001b[39m(my_list))\n\u001b[1;32m     13\u001b[0m \u001b[39mdel\u001b[39;00m my_list\n\u001b[0;32m---> 14\u001b[0m \u001b[39mprint\u001b[39m(\u001b[39m'\u001b[39m\u001b[39mI have deleted my_list: \u001b[39m\u001b[39m'\u001b[39m \u001b[39m+\u001b[39m \u001b[39mstr\u001b[39m(my_list))\n",
      "\u001b[0;31mNameError\u001b[0m: name 'my_list' is not defined"
     ]
    }
   ],
   "source": [
    "my_list = list((1,4,9,9,16,25))\n",
    "print(my_list)\n",
    "my_list.pop(1)\n",
    "print('by \"my_list.pop(1)\", I have removed item on index 1: ' + str(my_list))\n",
    "my_list.pop()\n",
    "print('By \"my_list.pop()\", I have removed the last item: ' + str(my_list))\n",
    "my_list.remove(9)\n",
    "print('By \"my_list.remove(9)\", I have removed first 9 in list, giving: ' + str(my_list))\n",
    "del my_list[0]\n",
    "print('By \"del my_list[0]\", I have removed item on index 0: ' + str(my_list))\n",
    "my_list.clear()\n",
    "print('By \"my_list.clear()\", I have cleared my_list: ' + str(my_list))\n",
    "del my_list\n",
    "print('I have deleted my_list: ' + str(my_list)) #Willn result in an error"
   ]
  },
  {
   "attachments": {},
   "cell_type": "markdown",
   "metadata": {},
   "source": [
    "<h4>Accessing and changing items</h4>\n",
    "\n",
    "[:4] From start up til, but not including index 4\n",
    "\n",
    "[2:] From index 2 until end\n",
    "\n",
    "[-1] item on last index\n",
    "\n",
    "[2:5] From index 2 up til, but not including index 5\n",
    "\n",
    "[::2] Every second item of list\n",
    "\n",
    "Changes can be done on segments of list"
   ]
  },
  {
   "cell_type": "code",
   "execution_count": 2,
   "metadata": {},
   "outputs": [
    {
     "name": "stdout",
     "output_type": "stream",
     "text": [
      "[1, 4, 9, 16, 25, 36, 49, 64, 81]\n",
      "Last item is retrieved by my_list[-1], because a list is zero indexed, here it is : 81\n",
      "\n",
      "my_list[1:-2:2] starts from index 1 (4), ends at -3 (49), only every second item:  [4, 16, 36]\n",
      "\n",
      "my_list[:4] = [0] here index 0,1,2,3 is replaced by one item (0) \n",
      "[0, 25, 36, 49, 64, 81]\n",
      "\n",
      "my_list[0:1] = [0,1,2,3,4,5,6] index 0 is replaced by several items \n",
      "[0, 1, 2, 3, 4, 5, 6, 4, 9, 16, 25, 36, 49, 64, 81]\n",
      "\n",
      "my_list[0] = [0,1,2,3,4,5,6] # if :1 is omitted index 0 is replaced by a list \n",
      "[[0, 1, 2, 3, 4, 5, 6], 4, 9, 16, 25, 36, 49, 64, 81]\n"
     ]
    }
   ],
   "source": [
    "my_list = list((1,4,9,16,25,36,49,64,81))\n",
    "\n",
    "print(my_list)\n",
    "print('Last item is retrieved by my_list[-1], because a list is zero indexed, here it is : ' + str(my_list[-1])) \n",
    "print('')\n",
    "\n",
    "print('my_list[1:-2:2] starts from index 1 (4), ends at -3 (49), only every second item:  ' + str(my_list[1:-2:2])) \n",
    "print('')\n",
    "\n",
    "my_list[:4] = [0] \n",
    "print('my_list[:4] = [0] here index 0,1,2,3 is replaced by one item (0) \\n'+ str(my_list))\n",
    "print('')\n",
    "\n",
    "my_list = list((1,4,9,16,25,36,49,64,81))\n",
    "my_list[0:1] = [0,1,2,3,4,5,6] \n",
    "print('my_list[0:1] = [0,1,2,3,4,5,6] index 0 is replaced by several items \\n' + str(my_list))\n",
    "print('')\n",
    "\n",
    "my_list = list((1,4,9,16,25,36,49,64,81))\n",
    "my_list[0] = [0,1,2,3,4,5,6] # if :1 is omitted index 0 is replaced by a list \n",
    "print('my_list[0] = [0,1,2,3,4,5,6] # if :1 is omitted index 0 is replaced by a list \\n' + str(my_list))\n"
   ]
  },
  {
   "attachments": {},
   "cell_type": "markdown",
   "metadata": {},
   "source": [
    "<h4>Changing every second item in a list</h4>\n",
    "\n",
    "my_ist = list((1,4,9,16,25))\n",
    "\n",
    "my_list[::2] = [100] * len(my_list[::2]), :   gives [100,4,100,16,100]\n",
    "\n",
    "How:\n",
    "\n",
    "my_list[::2] (left side) creates list slice of every second here [1,9,25]\n",
    "\n",
    "[0] * len(my_list[::2]) (right side) creates a new list of 100's same length as the slice above here [100,100,100]\n",
    "\n",
    "lst[::2] = [0] * len(lst[::2]) here the list on the right is assigned to the slice on the left\n"
   ]
  },
  {
   "cell_type": "code",
   "execution_count": 139,
   "metadata": {},
   "outputs": [
    {
     "name": "stdout",
     "output_type": "stream",
     "text": [
      "[100, 4, 100, 16, 100, 36, 100, 64, 100]\n"
     ]
    }
   ],
   "source": [
    "my_list = list((1,4,9,16,25,36,49,64,81))\n",
    "\n",
    "my_list[::2] = [100] * len(my_list[::2])\n",
    "print(my_list)"
   ]
  },
  {
   "attachments": {},
   "cell_type": "markdown",
   "metadata": {},
   "source": [
    "<h4>Sorting lists</h4>\n",
    "reverse() will reverse the order of the list items.<br>\n",
    "sort() will sort the list numerically or alphanumerically, by default the sort() method is case sensitive<br>\n",
    "sort(reverse = True) will sort the list descending<br>\n",
    "sort(key = myfunc). key can be a custmized function or e.g str.lower which ignore case sensitivity\n"
   ]
  },
  {
   "cell_type": "code",
   "execution_count": 1,
   "metadata": {},
   "outputs": [
    {
     "name": "stdout",
     "output_type": "stream",
     "text": [
      "I have sorted my list using a cosumized function checking approximity to 50 in reverse order: [100, 82, 23, 65, 50]\n"
     ]
    }
   ],
   "source": [
    "def myfunc(n):\n",
    "  return abs(n - 50)\n",
    "\n",
    "numbers = [100, 50, 65, 82, 23]\n",
    "numbers.sort(key = myfunc)\n",
    "numbers.reverse()\n",
    "print('I have sorted my list using a cosumized function checking approximity to 50 in reverse order: ' + str(numbers))"
   ]
  },
  {
   "attachments": {},
   "cell_type": "markdown",
   "metadata": {},
   "source": [
    "<h4>Looping through a list</h4>\n",
    "For loop: for x in my_list: <br><br>\n",
    "Use the range() and len() <br>for i in range(len(thislist)):<br><br>\n",
    "While loop: <br>while i < number:"
   ]
  }
 ],
 "metadata": {
  "kernelspec": {
   "display_name": "base",
   "language": "python",
   "name": "python3"
  },
  "language_info": {
   "codemirror_mode": {
    "name": "ipython",
    "version": 3
   },
   "file_extension": ".py",
   "mimetype": "text/x-python",
   "name": "python",
   "nbconvert_exporter": "python",
   "pygments_lexer": "ipython3",
   "version": "3.10.6"
  },
  "orig_nbformat": 4,
  "vscode": {
   "interpreter": {
    "hash": "d4d1e4263499bec80672ea0156c357c1ee493ec2b1c70f0acce89fc37c4a6abe"
   }
  }
 },
 "nbformat": 4,
 "nbformat_minor": 2
}
