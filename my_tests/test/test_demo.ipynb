{
 "cells": [
  {
   "cell_type": "markdown",
   "id": "8523c35f-ed01-4835-bb51-8990c67f5f62",
   "metadata": {},
   "source": [
    "## Unittest vs pytest\n",
    "1. Unittest requires developers to create classes derived from the TestCase module and then define the test cases as methods in the class. \n",
    "2. Pytest only requires you to define a function with “test_” prepended and use the assert conditions inside them."
   ]
  },
  {
   "cell_type": "markdown",
   "id": "86c7853a-3789-4881-981e-ed57dd1fae7e",
   "metadata": {
    "tags": []
   },
   "source": [
    "## Demo of pytest\n",
    "\n",
    "1. Demo of running 1 module\n",
    "2. Demo of running all modules\n",
    "3. Demo of running verbose\n",
    "4. Demo of parameterized test"
   ]
  },
  {
   "cell_type": "code",
   "execution_count": null,
   "id": "0b16b35c-849e-422f-924e-34274377542e",
   "metadata": {},
   "outputs": [],
   "source": []
  }
 ],
 "metadata": {
  "kernelspec": {
   "display_name": "Python 3 (ipykernel)",
   "language": "python",
   "name": "python3"
  },
  "language_info": {
   "codemirror_mode": {
    "name": "ipython",
    "version": 3
   },
   "file_extension": ".py",
   "mimetype": "text/x-python",
   "name": "python",
   "nbconvert_exporter": "python",
   "pygments_lexer": "ipython3",
   "version": "3.10.6"
  }
 },
 "nbformat": 4,
 "nbformat_minor": 5
}
