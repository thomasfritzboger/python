{
 "cells": [
  {
   "cell_type": "markdown",
   "id": "688363d6-597f-49a5-ab07-0e25eb29b720",
   "metadata": {},
   "source": [
    "# Class exercise 1\n",
    "![](https://miro.medium.com/max/1266/1*Pb8oEA1nGIONsSJk7QSVzg.png)"
   ]
  },
  {
   "cell_type": "code",
   "execution_count": 10,
   "id": "a026dd54-1a5b-45c9-ad38-7f86891b2c9d",
   "metadata": {},
   "outputs": [
    {
     "name": "stdin",
     "output_type": "stream",
     "text": [
      "enter a number 4\n",
      "enter another number 6\n"
     ]
    },
    {
     "name": "stdout",
     "output_type": "stream",
     "text": [
      "the 2 numbers multiplied is: 24\n"
     ]
    }
   ],
   "source": [
    "val1 = input(\"enter a number\")\n",
    "val2 = input(\"enter another number\")\n",
    "print(f'the 2 numbers multiplied is: {int(val1)*int(val2)}')"
   ]
  },
  {
   "cell_type": "markdown",
   "id": "d18eeaae-5378-4b56-a105-eac2bbeab1a4",
   "metadata": {},
   "source": [
    "## nb03\n",
    "1. Use the `range()` function to make a list of the odd numbers from 1 to 20. **Hint** in ipython and this notebooks you can see a functions help text by executing for example `range?`\n",
    "  2. Create a list with the even number values from two to one million. Use `min(list)` and `max(list)` to make sure your list actually starts at two and ends at one million. Also, use the `sum(list)` function to compute the sum of all values.\n",
    "  3. Create a list of the multiples of 3 - going from 3 to 300. **HINT: USE A LIST COMPREHENSION**\n",
    "  4. A number raised to the third power is called a cube. For example, the cube of 2 is written as `2**3` in Python. Create a list of the first 10 cubes (that is, the cube of each integer from 1 through 10)."
   ]
  },
  {
   "cell_type": "code",
   "execution_count": 34,
   "id": "cecf52bc-e0e3-4285-b6d6-e96f00808222",
   "metadata": {},
   "outputs": [
    {
     "name": "stdout",
     "output_type": "stream",
     "text": [
      "[1, 3, 5, 7, 9, 11, 13, 15, 17, 19]\n",
      "[1, 3, 5, 7, 9, 11, 13, 15, 17, 19]\n"
     ]
    }
   ],
   "source": [
    "odd_numbers = [i for i in range(1,20) if i%2 != 0]\n",
    "print(odd_numbers)\n",
    "#Eller\n",
    "odd_numbers2 = [n for n in range(1, 21, 2)]\n",
    "print(odd_numbers2)"
   ]
  },
  {
   "cell_type": "code",
   "execution_count": 40,
   "id": "be7b4bd0-a36c-4a48-b43b-c5d864b04cac",
   "metadata": {},
   "outputs": [
    {
     "name": "stdout",
     "output_type": "stream",
     "text": [
      "2\n",
      "1000000\n",
      "500000\n",
      "250000500000\n"
     ]
    }
   ],
   "source": [
    "my_list = range(2,1000001,2)\n",
    "print(min(my_list))\n",
    "print(max(my_list))\n",
    "print(len(my_list))\n",
    "print(sum(my_list))"
   ]
  },
  {
   "cell_type": "code",
   "execution_count": 41,
   "id": "183fa82a-5fda-42ab-b878-98279bca50d2",
   "metadata": {},
   "outputs": [
    {
     "name": "stdout",
     "output_type": "stream",
     "text": [
      "[3, 6, 9, 12, 15, 18, 21, 24, 27, 30, 33, 36, 39, 42, 45, 48, 51, 54, 57, 60, 63, 66, 69, 72, 75, 78, 81, 84, 87, 90, 93, 96, 99, 102, 105, 108, 111, 114, 117, 120, 123, 126, 129, 132, 135, 138, 141, 144, 147, 150, 153, 156, 159, 162, 165, 168, 171, 174, 177, 180, 183, 186, 189, 192, 195, 198, 201, 204, 207, 210, 213, 216, 219, 222, 225, 228, 231, 234, 237, 240, 243, 246, 249, 252, 255, 258, 261, 264, 267, 270, 273, 276, 279, 282, 285, 288, 291, 294, 297, 300]\n"
     ]
    }
   ],
   "source": [
    "list_mul_of_3 = [n*3 for n in range(1,101)]\n",
    "print(list_mul_of_3)"
   ]
  },
  {
   "cell_type": "code",
   "execution_count": 42,
   "id": "7213cae5-19a3-438b-a78e-68bb6454170d",
   "metadata": {},
   "outputs": [
    {
     "name": "stdout",
     "output_type": "stream",
     "text": [
      "[1, 8, 27, 64, 125, 216, 343, 512, 729, 1000]\n"
     ]
    }
   ],
   "source": [
    "list_cubes = [n**3 for n in range(1,11)]\n",
    "print(list_cubes)"
   ]
  },
  {
   "cell_type": "code",
   "execution_count": 72,
   "id": "72cea472-b35c-49e9-bafd-a1de22767030",
   "metadata": {},
   "outputs": [
    {
     "name": "stdout",
     "output_type": "stream",
     "text": [
      "0.0004380000027595088\n",
      "0-1-2-3-4-5-6-7-8-9-10-11-12-13-14-15-16-17-18-19-20-21-22-23-24-25-26-27-28-29-30-31-32-33-34-35-36-37-38-39-40-41-42-43-44-45-46-47-48-49-50-51-52-53-54-55-56-57-58-59-60-61-62-63-64-65-66-67-68-69-70-71-72-73-74-75-76-77-78-79-80-81-82-83-84-85-86-87-88-89-90-91-92-93-94-95-96-97-98-99\n",
      "mean: 0.00012804412599507487\n",
      "stddev: 6.311611508023328e-05\n"
     ]
    }
   ],
   "source": [
    "import timeit\n",
    "import statistics\n",
    "\n",
    "cmd = '\"-\".join(str(n) for n in range(100))'\n",
    "print(timeit.timeit(cmd, number=10))\n",
    "\n",
    "res = \"-\".join(str(n) for n in range(100))\n",
    "print(res)\n",
    "\n",
    "t = timeit.repeat(stmt=cmd, repeat=1000, number=10)\n",
    "print(\"mean:\", sum(t) / len(t))\n",
    "print(\"stddev:\", statistics.stdev(t))\n"
   ]
  },
  {
   "cell_type": "markdown",
   "id": "e6d34d89-a4ec-4c4d-b192-69b8353fa3dc",
   "metadata": {
    "tags": []
   },
   "source": [
    "## nb04\n",
    "1. A date of the form 8-MAR-85 includes the name of the month, which must be translated to a number.\n",
    "2. Create a dict suitable for decoding month names to numbers.\n",
    "3. use string operations to split the date into 3 items using the \"-\" character.\n",
    "4. Translate the month and return a tuple.\n",
    "5. In the end we have a date \"dd-MMM-yy\" format and we get a new string \"d-m-y\""
   ]
  },
  {
   "cell_type": "code",
   "execution_count": 81,
   "id": "c21cc95b-90a0-4f22-9b8b-6dc1b612f2c4",
   "metadata": {},
   "outputs": [
    {
     "name": "stdout",
     "output_type": "stream",
     "text": [
      "{'JAN': 1, 'FEB': 2, 'MAR': 3, 'APR': 4, 'MAY': 5, 'JUN': 6, 'JUL': 7, 'AUG': 8, 'SEP': 9, 'OCT': 10, 'NOV': 11, 'DEC': 12}\n"
     ]
    }
   ],
   "source": [
    "month_dict = {'JAN':1, 'FEB':2, 'MAR':3, 'APR':4, 'MAY':5, 'JUN':6, 'JUL':7, 'AUG':8, 'SEP':9, 'OCT':10, 'NOV':11, 'DEC':12}\n",
    "print(month_dict)\n",
    "\n"
   ]
  },
  {
   "cell_type": "code",
   "execution_count": 87,
   "id": "c76302db-bc70-4ed5-8943-3bac8fdd2f39",
   "metadata": {},
   "outputs": [
    {
     "name": "stdout",
     "output_type": "stream",
     "text": [
      "['8', 'MAR', '85']\n",
      "('8', 3, '85')\n",
      "8-3-85\n"
     ]
    }
   ],
   "source": [
    "date = '8-MAR-85'\n",
    "date_list = date.split('-')\n",
    "print(date_list)\n",
    "month_num = month_dict[date_list[1]]\n",
    "date_tuple = (date_list[0], month_num, date_list[2])\n",
    "print(date_tuple)\n",
    "date_str = '-'.join(str(item) for item in date_tuple)\n",
    "print(date_str)"
   ]
  },
  {
   "cell_type": "markdown",
   "id": "2d902f27-fa89-43a3-a043-5c7f2aad7a98",
   "metadata": {},
   "source": [
    "## nb05\n",
    "1. Write a program that creates gramatically valid English sentences. * Here, we consider a sentence to be gramatically correct when it follows the simple English grammar of the form: Article Adjective Noun Verb. That is, even the sentence A insect fly. is, for the moment, considered correct. Use the files inside the data folder: nouns, verbs and adjectives. HINT: read them at put content into 3 lists.\n",
    "2. Extend the above program to generate all possible sentences with the given words."
   ]
  },
  {
   "cell_type": "code",
   "execution_count": 248,
   "id": "6fa8b5d6-d60f-458e-b6e7-6b7e01dd21a4",
   "metadata": {},
   "outputs": [
    {
     "name": "stdout",
     "output_type": "stream",
     "text": [
      "An only country like.\n"
     ]
    }
   ],
   "source": [
    "import random\n",
    "\n",
    "with open('data/verbs') as verbs_file:\n",
    "    verbs = verbs_file.read().split('\\n')\n",
    "#print(verbs)\n",
    "\n",
    "with open('data/nouns') as nouns_file:\n",
    "    nouns = nouns_file.read().split('\\n')\n",
    "#print(nouns)\n",
    "\n",
    "with open('data/adjectives') as adj_file:\n",
    "    adjectives = adj_file.read().split('\\n')\n",
    "#print(adjectives)\n",
    "#Remove empty strings\n",
    "adjectives = [adj for adj in adjectives if adj]  \n",
    "\n",
    "# Define article function\n",
    "def article(adjective):\n",
    "    if adjective[0] in 'aeiou':\n",
    "        return 'an'\n",
    "    else:\n",
    "        return 'a'\n",
    "\n",
    "# Generate sentence function\n",
    "def generate_sentence():\n",
    "    # Select random words\n",
    "    verb = random.choice(verbs)\n",
    "    noun = random.choice(nouns)\n",
    "    adjective = random.choice(adjectives)\n",
    "    \n",
    "    # Construct sentence\n",
    "    article_word = article(adjective)\n",
    "    sentence = f'{article_word} {adjective} {noun} {verb}.'\n",
    "    \n",
    "    return sentence.capitalize()\n",
    "\n",
    "sentence = generate_sentence()\n",
    "print(sentence)\n",
    "\n",
    "\n"
   ]
  },
  {
   "cell_type": "code",
   "execution_count": 170,
   "id": "b2126744-cce5-4b4b-9f18-a1fb5e3ba2a4",
   "metadata": {},
   "outputs": [
    {
     "name": "stdout",
     "output_type": "stream",
     "text": [
      "100\n",
      "100\n",
      "100\n",
      "1000000\n",
      "A ready lot look.\n",
      "A strong world might.\n",
      "A human time live.\n",
      "A simple city play.\n",
      "A hot morning wait.\n"
     ]
    }
   ],
   "source": [
    "print(len(adjectives))\n",
    "print(len(nouns))\n",
    "print(len(verbs))\n",
    "sentences = []\n",
    "\n",
    "for a in adjectives:\n",
    "    for n in nouns:\n",
    "        for v in verbs:\n",
    "            article_word = article(a).capitalize() \n",
    "            sentence = f'{article_word} {a} {n} {v}.'\n",
    "            sentences.append(sentence)\n",
    "\n",
    "print(len(sentences))   \n",
    "\n",
    "# Print 5 random sentences\n",
    "random_sentences = random.sample(sentences, k=5)\n",
    "for sentence in random_sentences:\n",
    "    print(sentence)"
   ]
  },
  {
   "cell_type": "markdown",
   "id": "c5f38a56-81fc-4086-b623-6b481ec6090e",
   "metadata": {},
   "source": [
    "## Week 1: Sequence, Dict, Set¶\n",
    "1. Create a list of first names as strings (size 10)\n",
    "2. Print \"Hello \" + name for all 10 names\n",
    "3. With list comprehension add a last name to each name in the list and save in new variable\n",
    "4. Create 2 new lists of equal size to names containing lastnames and ages and zip names, lastnames and ages\n",
    "5. With a dictionary comprehension create a dict with an id as key and (firstname, lastname, age) as value (in a tuple)\n",
    "6. Loop over list of names and create a dictionary with {name:len(names)} (use the .setdefault method)\n",
    "7. Sort the dictionary by length of names\n",
    "8. Create a for loop that can populate a dictionary from 2 sets (student_name (key) and student_address (value))"
   ]
  },
  {
   "cell_type": "code",
   "execution_count": 179,
   "id": "5c92f047-0a33-4480-8bf0-0694c46fc018",
   "metadata": {},
   "outputs": [
    {
     "name": "stdout",
     "output_type": "stream",
     "text": [
      "Hello Anna\n",
      "Hello Bjarne\n",
      "Hello Carl\n",
      "Hello Dorte\n",
      "Hello Erik\n",
      "Hello Frede\n",
      "Hello Grete\n",
      "Hello Hans\n",
      "Hello Inge\n",
      "Hello Jens\n"
     ]
    }
   ],
   "source": [
    "first_names = ['Anna','Bjarne','Carl','Dorte','Erik','Frede','Grete','Hans','Inge','Jens']\n",
    "for n in first_names:\n",
    "    print(f'Hello {n}')\n",
    "last_names = ['Hansen','Jensen','Nielsen','Olsen']\n"
   ]
  },
  {
   "cell_type": "code",
   "execution_count": 184,
   "id": "d32b2133-1628-448f-911d-5b3b5b09e844",
   "metadata": {},
   "outputs": [
    {
     "name": "stdout",
     "output_type": "stream",
     "text": [
      "['Anna Hansen', 'Bjarne Olsen', 'Carl Olsen', 'Dorte Olsen', 'Erik Jensen', 'Frede Nielsen', 'Grete Hansen', 'Hans Olsen', 'Inge Hansen', 'Jens Hansen']\n"
     ]
    }
   ],
   "source": [
    "full_names = [f'{f} {random.choice(last_names)}' for f in first_names]\n",
    "print(full_names)\n",
    "    "
   ]
  },
  {
   "cell_type": "code",
   "execution_count": 196,
   "id": "f1538126-6602-4faa-8651-234b964b8d95",
   "metadata": {},
   "outputs": [
    {
     "name": "stdout",
     "output_type": "stream",
     "text": [
      "['Olsen', 'Nielsen', 'Hansen', 'Nielsen', 'Olsen', 'Olsen', 'Jensen', 'Olsen', 'Jensen', 'Hansen']\n",
      "[41, 34, 24, 21, 21, 48, 48, 26, 38, 32]\n",
      "[('Anna Olsen', 41), ('Bjarne Nielsen', 34), ('Carl Hansen', 24), ('Dorte Nielsen', 21), ('Erik Olsen', 21), ('Frede Olsen', 48), ('Grete Jensen', 48), ('Hans Olsen', 26), ('Inge Jensen', 38), ('Jens Hansen', 32)]\n",
      "{1: ('Anna', 'Olsen', 32), 2: ('Bjarne', 'Nielsen', 33), 3: ('Carl', 'Hansen', 41), 4: ('Dorte', 'Nielsen', 39), 5: ('Erik', 'Olsen', 35), 6: ('Frede', 'Olsen', 47), 7: ('Grete', 'Jensen', 49), 8: ('Hans', 'Olsen', 29), 9: ('Inge', 'Jensen', 23), 10: ('Jens', 'Hansen', 25)}\n"
     ]
    }
   ],
   "source": [
    "# Create new lists of last names and ages\n",
    "full_last_names = [f'{random.choice(last_names)}' for _ in range(len(first_names))]\n",
    "print(full_last_names)\n",
    "full_ages = [random.randint(20, 50) for _ in range(len(first_names))]\n",
    "print(full_ages)\n",
    "\n",
    "# Combine the three lists using zip()\n",
    "people = list(zip([f'{f} {l}' for f, l in zip(first_names, full_last_names)], full_ages))\n",
    "print(people)\n",
    "\n",
    "# Create dictionary with ID as key and (first name, last name, age) as value\n",
    "people_dict = {i+1: (first_names[i], full_last_names[i], ages[i]) for i in range(len(first_names))}\n",
    "print(people_dict)\n"
   ]
  },
  {
   "cell_type": "code",
   "execution_count": 206,
   "id": "b9328bd8-c7a1-4aa2-ab11-c57223db2f50",
   "metadata": {},
   "outputs": [
    {
     "name": "stdout",
     "output_type": "stream",
     "text": [
      "{'Anna': 4, 'Bjarne': 6, 'Carl': 4, 'Dorte': 5, 'Erik': 4, 'Frede': 5, 'Grete': 5, 'Hans': 4, 'Inge': 4, 'Jens': 4}\n",
      "{'Anna': 4, 'Carl': 4, 'Erik': 4, 'Hans': 4, 'Inge': 4, 'Jens': 4, 'Dorte': 5, 'Frede': 5, 'Grete': 5, 'Bjarne': 6}\n",
      "{'Anna': 'Kanalvej 5', 'Bo': 'Nørgaardsvej 11', 'Charlie': 'Hovedgaden 4', 'Dory': 'Buddingevej 33'}\n"
     ]
    }
   ],
   "source": [
    "# Loop over list of names and create a dictionary with {name:len(names)} (use the .setdefault method)\n",
    "name_lengths = {}\n",
    "\n",
    "for name in first_names:\n",
    "    name_lengths.setdefault(name, len(name))\n",
    "\n",
    "print(name_lengths)\n",
    "\n",
    "#Sort the dictionary by length of names\n",
    "sorted_by_length = dict(sorted(name_lengths.items(), key=lambda item: item[1]))\n",
    "print(sorted_by_length)\n",
    "\n",
    "\n",
    "#Create a for loop that can populate a dictionary from 2 sets (student_name (key) and student_address (value))\n",
    "student_names = {'Anna', 'Bo', 'Charlie', 'Dory'}\n",
    "student_addresses = {'Kanalvej 5', 'Hovedgaden 4', 'Nørgaardsvej 11', 'Buddingevej 33'}\n",
    "\n",
    "address_book = {}\n",
    "\n",
    "for name in student_names:\n",
    "    address = student_addresses.pop()\n",
    "    address_book[name] = address\n",
    "\n",
    "print(address_book)\n",
    "\n",
    "\n"
   ]
  },
  {
   "cell_type": "markdown",
   "id": "c508c1e5-2615-4c1b-93de-e677b0d79b15",
   "metadata": {
    "tags": []
   },
   "source": [
    "## Part 1¶\n",
    "#### Create 5 list comprehensions to solve the following 5 problems:\n",
    "1. Iterate a list of names to return a list of the names starting with H\n",
    "2. In one line create a list of the numbers 1-100 to the power of 3\n",
    "3. Iterate a list of names to create a list of tuples where the tuples first value is the length of the name and the second is the name\n",
    "4. Iterate over each character in a string and get only those that are nummeric\n",
    "5. Using only a list comprehension wrapped in set() get all possible combinations from throwing 2 dice (hint use 2 for loops in a single list comprehension). Result should look like: [2,3,4,5,6,7,8,...] or a more complex/accurate solution: [(1,1),(1,2)...] in a way that (1,2) is equal to (2,1).\n"
   ]
  },
  {
   "cell_type": "code",
   "execution_count": 225,
   "id": "3a92d256-cb30-4573-a4b0-606f2f9406c7",
   "metadata": {},
   "outputs": [
    {
     "name": "stdout",
     "output_type": "stream",
     "text": [
      "['4', '6']\n",
      "[(1, 1), (1, 2), (1, 3), (1, 4), (1, 5), (1, 6), (2, 2), (2, 3), (2, 4), (2, 5), (2, 6), (3, 3), (3, 4), (3, 5), (3, 6), (4, 4), (4, 5), (4, 6), (5, 5), (5, 6), (6, 6)]\n",
      "[2, 3, 4, 5, 6, 7, 8, 9, 10, 11, 12]\n"
     ]
    }
   ],
   "source": [
    "names = ['Hans','Jens','Henrik','Inge','Holger']\n",
    "h_names = list(filter(lambda name: name.startswith('H'), names))\n",
    "#print(h_names)\n",
    "\n",
    "numbers_p3 = [n**3 for n in range(1,101)]\n",
    "#print(numbers_p3)\n",
    "\n",
    "name_tuples = []\n",
    "\n",
    "for name in names:\n",
    "    name_tuple = (len(name), name)\n",
    "    name_tuples.append(name_tuple)\n",
    "#print(name_tuples)\n",
    "\n",
    "my_string = 'dasfsa4gdsss6'\n",
    "numbers = filter(lambda c: c.isdigit(), my_string)\n",
    "print(list(numbers))\n",
    "\n",
    "dice_combinations = set((i, j) if i <= j else (j, i) for i in range(1, 7) for j in range(1, 7))\n",
    "\n",
    "sorted_combinations = sorted(dice_combinations)\n",
    "dice_sums = sorted(set(sum(dice) for dice in dice_combinations))\n",
    "\n",
    "print(sorted_combinations)\n",
    "print(dice_sums)\n",
    "\n"
   ]
  },
  {
   "cell_type": "markdown",
   "id": "1cf0f7de-218a-4121-8840-7149d80ef117",
   "metadata": {
    "tags": []
   },
   "source": [
    "## Part 2\n",
    "#### Create 2 dictionary comprehensions to solve the following:\n",
    "\n",
    "1. Iterate a list of names and create a dictionary where key is the name and value is the length of the name \n",
    "2. Iterate a list of numbers and create a dictionary with {key:value} being {number:squareroot_of_number} \n",
    "#### Extra assignment (This one goes beyond what is covered in the course notebooks. So only do it if you want an extra challenge).\n",
    "3. Progammatically using loops create a small program to produce a dictionary with all the 2 dice throw combinations as keys (eg: 2,3,4...etc) and their likelyhood in percent as values"
   ]
  },
  {
   "cell_type": "code",
   "execution_count": 247,
   "id": "04b40aae-61e0-4910-97d6-8ab01779396f",
   "metadata": {},
   "outputs": [
    {
     "name": "stdout",
     "output_type": "stream",
     "text": [
      "['Hans', 'Jens', 'Henrik', 'Inge', 'Holger']\n",
      "{'Hans': 4, 'Jens': 4, 'Henrik': 6, 'Inge': 4, 'Holger': 6}\n",
      "{1: 1.0, 3: 1.7321, 5: 2.2361, 2: 1.4142}\n",
      "{2: 1, 3: 2, 4: 3, 5: 4, 6: 5, 7: 6, 8: 5, 9: 4, 10: 3, 11: 2, 12: 1}\n",
      "{2: 2.78, 3: 5.56, 4: 8.33, 5: 11.11, 6: 13.89, 7: 16.67, 8: 13.89, 9: 11.11, 10: 8.33, 11: 5.56, 12: 2.78}\n",
      "100.01\n"
     ]
    }
   ],
   "source": [
    "print(names)\n",
    "dict_names = {}\n",
    "for n in names:\n",
    "    dict_names.setdefault(n, len(n))\n",
    "print(dict_names)\n",
    "\n",
    "dict_values = {}\n",
    "values = [1,3,5,2]\n",
    "for v in values:\n",
    "    dict_values.setdefault(v,round(v**0.5,4))\n",
    "print(dict_values)\n",
    "\n",
    "results = {}\n",
    "for i in range (1,7):\n",
    "    for j in range (1,7):\n",
    "        result = i+j\n",
    "        if result in results:\n",
    "            results[result] += 1\n",
    "        else:\n",
    "            results[result] = 1\n",
    "\n",
    "print(results)\n",
    "total = sum(results.values())\n",
    "\n",
    "for k,v in results.items():\n",
    "    results[k] = round((v/total)*100, 2)\n",
    "print(results) \n",
    "total = sum(results.values())\n",
    "print(total)"
   ]
  },
  {
   "cell_type": "code",
   "execution_count": null,
   "id": "41727bf6-22ba-4f0d-b483-28eedafcacf8",
   "metadata": {},
   "outputs": [],
   "source": []
  }
 ],
 "metadata": {
  "kernelspec": {
   "display_name": "Python 3 (ipykernel)",
   "language": "python",
   "name": "python3"
  },
  "language_info": {
   "codemirror_mode": {
    "name": "ipython",
    "version": 3
   },
   "file_extension": ".py",
   "mimetype": "text/x-python",
   "name": "python",
   "nbconvert_exporter": "python",
   "pygments_lexer": "ipython3",
   "version": "3.10.6"
  }
 },
 "nbformat": 4,
 "nbformat_minor": 5
}
