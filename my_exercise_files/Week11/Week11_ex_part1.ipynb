{
 "cells": [
  {
   "cell_type": "markdown",
   "id": "9f6a0504-86b9-4b38-b082-5fa8c669ef8b",
   "metadata": {},
   "source": [
    "## Exercise\n",
    "### Part 1\n",
    "1. Take a picture of an apple and put it in the image folder in the notebook environment\n",
    "2. Find the contour of the apple\n",
    "3. Draw a yellow circle with the center placed on the center of the apple contour\n",
    "4. Draw a square that precisely holds the apple\n",
    "5. Take a picture of three seperate apples.\n",
    "6. Use contours to programmatically identify the number of apples in the photo"
   ]
  },
  {
   "cell_type": "code",
   "execution_count": null,
   "id": "d04f3025-65e8-46b5-9b02-c958541909fb",
   "metadata": {},
   "outputs": [],
   "source": [
    "import cv2\n",
    "import numpy as np\n",
    "\n",
    "# Læs billedet af æblet\n",
    "img = cv2.imread('apple.jpg')\n",
    "\n",
    "# Konverter billedet til gråtone\n",
    "gray = cv2.cvtColor(img, cv2.COLOR_BGR2GRAY)\n",
    "\n",
    "# Anvend en Gaussisk sløringsfilter for at reducere støj\n",
    "blur = cv2.GaussianBlur(gray, (7, 7), 0)\n",
    "\n",
    "# Anvend Canny-kantdetektoren for at finde kanterne i billedet\n",
    "edges = cv2.Canny(blur, 50, 150)\n",
    "\n",
    "# Find konturen af æblet\n",
    "contours, hierarchy = cv2.findContours(edges, cv2.RETR_EXTERNAL, cv2.CHAIN_APPROX_SIMPLE)\n",
    "\n",
    "# Tegn konturen på billedet\n",
    "cv2.drawContours(img, contours, -1, (0, 255, 0), 3)\n",
    "\n",
    "# Vis det færdige resultat\n",
    "cv2.imshow('Resultat', img)\n",
    "cv2.waitKey(0)\n",
    "cv2.destroyAllWindows()\n"
   ]
  },
  {
   "cell_type": "code",
   "execution_count": null,
   "id": "8a915857-7af4-41b6-ab63-e6115e95433a",
   "metadata": {},
   "outputs": [],
   "source": []
  }
 ],
 "metadata": {
  "kernelspec": {
   "display_name": "Python 3 (ipykernel)",
   "language": "python",
   "name": "python3"
  },
  "language_info": {
   "codemirror_mode": {
    "name": "ipython",
    "version": 3
   },
   "file_extension": ".py",
   "mimetype": "text/x-python",
   "name": "python",
   "nbconvert_exporter": "python",
   "pygments_lexer": "ipython3",
   "version": "3.10.6"
  }
 },
 "nbformat": 4,
 "nbformat_minor": 5
}
