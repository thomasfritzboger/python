{
 "cells": [
  {
   "attachments": {},
   "cell_type": "markdown",
   "metadata": {},
   "source": [
    "# Merging and joining data from different DataFrames.\n",
    "\n",
    "Bruges normalt ved store datamængder, hvor man kan have data, der er spredt over flere DataFrames eller tabeller. Hver DataFrame kan indeholde forskellige aspekter af den samme data, og ved at kombinere dem kan man få en mere komplet og sammenhængende forståelse af dataene"
   ]
  },
  {
   "cell_type": "code",
   "execution_count": 21,
   "metadata": {},
   "outputs": [],
   "source": [
    "import pandas as pd\n",
    "\n",
    "#Eksempel\n",
    "# Et DataFrame med kundeoplysninger\n",
    "df1 = pd.DataFrame({\n",
    "    'KundeID': ['K01', 'K02', 'K03', 'K04'],\n",
    "    'Navn': ['Alice', 'Bob', 'Charlie', 'Dave'],\n",
    "    'Alder': [25, 32, 45, 27],\n",
    "    'By': ['Aarhus', 'Viborg', 'Horsens', 'Esbjerg']\n",
    "})\n",
    "\n",
    "# Et andet DataFrame med købsoplysninger\n",
    "df2 = pd.DataFrame({\n",
    "    'KundeID': ['K01', 'K03', 'K03', 'K02', 'K01', 'K04','K02'],\n",
    "    'Produkt': ['Bog', 'Film', 'CD', 'Bog', 'Film', 'CD','Bog'],\n",
    "    'Pris': [100, 50, 20, 80, 120, 30,70]\n",
    "})\n",
    "\n"
   ]
  },
  {
   "attachments": {},
   "cell_type": "markdown",
   "metadata": {},
   "source": [
    "Nu vil vi kombinere disse to DataFrames, så vi kan se oplysninger om hver kunde og deres køb i samme tabel. \n",
    "Dette kan gøres ved join-operation på KundeID-kolonnen i begge DataFrames:"
   ]
  },
  {
   "cell_type": "code",
   "execution_count": 22,
   "metadata": {},
   "outputs": [
    {
     "name": "stdout",
     "output_type": "stream",
     "text": [
      "  KundeID     Navn  Alder       By Produkt  Pris\n",
      "0     K01    Alice     25   Aarhus     Bog   100\n",
      "1     K01    Alice     25   Aarhus    Film   120\n",
      "2     K02      Bob     32   Viborg     Bog    80\n",
      "3     K02      Bob     32   Viborg     Bog    70\n",
      "4     K03  Charlie     45  Horsens    Film    50\n",
      "5     K03  Charlie     45  Horsens      CD    20\n",
      "6     K04     Dave     27  Esbjerg      CD    30\n",
      "<class 'pandas.core.frame.DataFrame'>\n"
     ]
    }
   ],
   "source": [
    "# Merge af DataFrames på KundeID-kolonnen\n",
    "merged_df = pd.merge(df1, df2, on='KundeID')\n",
    "\n",
    "# Viser det samlede DataFrame med kunde- og købsoplysninger\n",
    "print(merged_df)\n",
    "print(type(merged_df))"
   ]
  },
  {
   "attachments": {},
   "cell_type": "markdown",
   "metadata": {},
   "source": [
    "Hvis man samle forbruget kan man bruge groupby()\n",
    "\n",
    "Efterfølgende total_inkob bliver til en pandas Series-objekt."
   ]
  },
  {
   "cell_type": "code",
   "execution_count": 23,
   "metadata": {},
   "outputs": [
    {
     "name": "stdout",
     "output_type": "stream",
     "text": [
      "KundeID  Navn   \n",
      "K01      Alice      220\n",
      "K02      Bob        150\n",
      "K03      Charlie     70\n",
      "K04      Dave        30\n",
      "Name: Pris, dtype: int64\n",
      "<class 'pandas.core.series.Series'>\n"
     ]
    }
   ],
   "source": [
    "total_indkob = merged_df.groupby(['KundeID', 'Navn'])['Pris'].sum()\n",
    "print(total_indkob)\n",
    "print(type(total_indkob))"
   ]
  },
  {
   "attachments": {},
   "cell_type": "markdown",
   "metadata": {},
   "source": [
    "Hvis man vil bibeholde det som dataframe kan man bruge reset_index()-funktionen i pandas til at nulstille index på Series-objektet\n",
    "<br>\n",
    "Og derefter bruge to_frame()-funktionen til at konvertere det til en DataFrame"
   ]
  },
  {
   "cell_type": "code",
   "execution_count": 24,
   "metadata": {},
   "outputs": [
    {
     "name": "stdout",
     "output_type": "stream",
     "text": [
      "  KundeID     Navn  Samlet Indkøb\n",
      "0     K01    Alice            220\n",
      "1     K02      Bob            150\n",
      "2     K03  Charlie             70\n",
      "3     K04     Dave             30\n",
      "<class 'pandas.core.frame.DataFrame'>\n"
     ]
    }
   ],
   "source": [
    "total_indkob_df = total_indkob.reset_index().rename(columns={'Pris': 'Samlet Indkøb'})\n",
    "\n",
    "print(total_indkob_df)\n",
    "print(type(total_indkob_df))"
   ]
  },
  {
   "attachments": {},
   "cell_type": "markdown",
   "metadata": {},
   "source": [
    "# Join\n",
    "\n",
    "Join er en operation, der tillader kombinering af to forskellige DataFrames baseret på deres index. <br>\n",
    "Hvis to DataFrames har samme index eller fælles index, kan man bruge en join-operation til at kombinere dem i en ny DataFrame."
   ]
  },
  {
   "cell_type": "code",
   "execution_count": 59,
   "metadata": {},
   "outputs": [
    {
     "name": "stdout",
     "output_type": "stream",
     "text": [
      "Den første dataframe:\n",
      "   A  B\n",
      "a  1  4\n",
      "b  2  5\n",
      "c  3  6\n",
      "\n",
      "Den anden dataframe: \n",
      "   C   D\n",
      "a  7  10\n",
      "b  8  11\n",
      "c  9  12\n",
      "\n",
      "Den joinede dataframe: \n",
      "   A  B  C   D\n",
      "a  1  4  7  10\n",
      "b  2  5  8  11\n",
      "c  3  6  9  12\n",
      "\n"
     ]
    }
   ],
   "source": [
    "# Opretter to forskellige DataFrames med forskellige kolonner og samme index\n",
    "df1 = pd.DataFrame({'A': [1, 2, 3], 'B': [4, 5, 6]}, index=['a', 'b', 'c'])\n",
    "df2 = pd.DataFrame({'C': [7, 8, 9], 'D': [10, 11, 12]}, index=['a', 'b', 'c'])\n",
    "\n",
    "# Udfører en join-operation baseret på index\n",
    "joined_df = df1.join(df2)\n",
    "\n",
    "# Viser de oprindelige dataframes\n",
    "print('Den første dataframe:\\n{}\\n'.format(df1))\n",
    "print('Den anden dataframe: \\n{}\\n'.format(df2))\n",
    "\n",
    "# Viser den nye DataFrame med kombinerede kolonner fra begge DataFrames\n",
    "print('Den joinede dataframe: \\n{}\\n'.format(joined_df))"
   ]
  },
  {
   "attachments": {},
   "cell_type": "markdown",
   "metadata": {},
   "source": [
    "Hvis index ikke er identiske er der flere andre muligheder:\n",
    "\n",
    "Brug join(how='inner') hvis man vil have fælles index <br>\n",
    "Brug join(how='outer') hvis man vil have alle index, manglende værdier udfyldes med altid med NaN\n",
    "\n",
    "Det er også muligt ar resette index så de bliver ens med df2 = df2.set_index([df1.index])"
   ]
  },
  {
   "cell_type": "code",
   "execution_count": 58,
   "metadata": {},
   "outputs": [
    {
     "name": "stdout",
     "output_type": "stream",
     "text": [
      "Inner join på dataframes:\n",
      "   A  B    C    D\n",
      "b  2  5    7  bar\n",
      "c  3  6  foo   11\n",
      "\n",
      "Outer join på dataframes:\n",
      "     A    B    C    D\n",
      "a  1.0  4.0  NaN  NaN\n",
      "b  2.0  5.0    7  bar\n",
      "c  3.0  6.0  foo   11\n",
      "d  NaN  NaN    9   12\n",
      "\n",
      "Med reset index bliver det joinede Dataframe:\n",
      "   A  B    C    D\n",
      "a  1  4    7  bar\n",
      "b  2  5  foo   11\n",
      "c  3  6    9   12\n",
      "\n"
     ]
    }
   ],
   "source": [
    "df1 = pd.DataFrame({'A': [1, 2, 3], 'B': [4, 5, 6]}, index=['a', 'b', 'c'])\n",
    "df2 = pd.DataFrame({'C': [7, 'foo', 9], 'D': ['bar', 11, 12]}, index=['b', 'c', 'd'])\n",
    "\n",
    "join_innerDF = df1.join(df2, how='inner')\n",
    "join_outerDF = df1.join(df2, how='outer')\n",
    "\n",
    "\n",
    "print('Inner join på dataframes:\\n{}\\n'.format(join_innerDF))\n",
    "print('Outer join på dataframes:\\n{}\\n'.format(join_outerDF))\n",
    "\n",
    "df2 = df2.set_index([df1.index])\n",
    "\n",
    "join_after_reset_df = df1.join(df2)\n",
    "print('Med reset index bliver det joinede Dataframe:\\n{}\\n'.format(join_after_reset_df))"
   ]
  },
  {
   "cell_type": "code",
   "execution_count": null,
   "metadata": {},
   "outputs": [],
   "source": []
  }
 ],
 "metadata": {
  "kernelspec": {
   "display_name": "base",
   "language": "python",
   "name": "python3"
  },
  "language_info": {
   "codemirror_mode": {
    "name": "ipython",
    "version": 3
   },
   "file_extension": ".py",
   "mimetype": "text/x-python",
   "name": "python",
   "nbconvert_exporter": "python",
   "pygments_lexer": "ipython3",
   "version": "3.10.6"
  },
  "orig_nbformat": 4
 },
 "nbformat": 4,
 "nbformat_minor": 2
}
