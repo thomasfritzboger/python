{
 "cells": [
  {
   "attachments": {},
   "cell_type": "markdown",
   "metadata": {},
   "source": [
    "# Week 7: Web scraping, BS4, Selenium and Regexp\n",
    "\n",
    "\n",
    "  \n"
   ]
  },
  {
   "attachments": {},
   "cell_type": "markdown",
   "metadata": {},
   "source": [
    "### Part 1\n",
    "1. Make a request to: `https://en.wikipedia.org/wiki/Alan_Turing` and print out the responses .text property\n",
    "2. Find and print the title of the response page\n",
    "3. Find and print content of the first p tag that has content.\n",
    "4. Find and print all content from the TOC    \n",
    "5. Create a dictionary from the TOC links like: {'first link':'#this_is_the_first_link}\n",
    "6. Create a function that can take a word and look for it in the dictionary keys and then return the content from the first link that matches. Return the next p elements until next headline (h3 element).\n",
    "7. Make it into a cli program.  "
   ]
  },
  {
   "cell_type": "code",
   "execution_count": null,
   "metadata": {},
   "outputs": [
    {
     "ename": "",
     "evalue": "",
     "output_type": "error",
     "traceback": [
      "\u001b[1;31mJupyter cannot be started. Error attempting to locate Jupyter: Running cells requires notebook and jupyter package.\n",
      "\u001b[1;31mRun the following command to install 'jupyter and notebook' into the Python environment. \n",
      "\u001b[1;31mCommand: 'python -m pip install jupyter notebook -U\n",
      "\u001b[1;31mor\n",
      "\u001b[1;31mconda install jupyter notebook -U'\n",
      "\u001b[1;31mClick <a href='https://aka.ms/installJupyterForVSCode'>here</a> for more info."
     ]
    }
   ],
   "source": [
    "#1 print out the responses .text property\n",
    "import requests\n",
    "\n",
    "url = \"https://en.wikipedia.org/wiki/Alan_Turing\"\n",
    "response = requests.get(url)\n",
    "print(response.text)\n"
   ]
  },
  {
   "cell_type": "code",
   "execution_count": 4,
   "metadata": {},
   "outputs": [
    {
     "name": "stdout",
     "output_type": "stream",
     "text": [
      "Alan Turing - Wikipedia\n"
     ]
    }
   ],
   "source": [
    "#2 Find and print the title of the response page\n",
    "from bs4 import BeautifulSoup\n",
    "import requests\n",
    "\n",
    "url = \"https://en.wikipedia.org/wiki/Alan_Turing\"\n",
    "response = requests.get(url)\n",
    "\n",
    "soup = BeautifulSoup(response.content, 'html.parser')\n",
    "\n",
    "#.string-metoden på soup.title returnerer titlen som en streng\n",
    "title = soup.title.string\n",
    "\n",
    "print(title)"
   ]
  },
  {
   "cell_type": "code",
   "execution_count": 5,
   "metadata": {},
   "outputs": [
    {
     "name": "stdout",
     "output_type": "stream",
     "text": [
      "Alan Mathison Turing OBE FRS (/ˈtjʊərɪŋ/; 23 June 1912 – 7 June 1954) was an\n",
      "English mathematician, computer scientist, logician, cryptanalyst, philosopher,\n",
      "and theoretical biologist.[6] Turing was highly influential in the development\n",
      "of theoretical computer science, providing a formalisation of the concepts of\n",
      "algorithm and computation with the Turing machine, which can be considered a\n",
      "model of a general-purpose computer.[7][8][9] He is widely considered to be the\n",
      "father of theoretical computer science and artificial intelligence.[10]\n"
     ]
    }
   ],
   "source": [
    "#3 Find and print content of the first p tag that has content.\n",
    "import textwrap\n",
    "\n",
    "# soup.select_one() til at finde det første \"p\" tag, der ikke er tomt\n",
    "first_p_tag = soup.select_one('p:not(:empty)')\n",
    "\n",
    "p_text = first_p_tag.get_text()\n",
    "\n",
    "# Opdel teksten i linjer på højst 80 tegn\n",
    "lines = textwrap.wrap(p_text, width=80)\n",
    "\n",
    "# Udskriv hver linje\n",
    "for line in lines:\n",
    "    print(line)\n",
    "\n",
    "#Skal slettes"
   ]
  },
  {
   "cell_type": "code",
   "execution_count": 173,
   "metadata": {},
   "outputs": [
    {
     "name": "stdout",
     "output_type": "stream",
     "text": [
      "(Top)\n",
      "Early life and education\n",
      "Family\n",
      "School\n",
      "Christopher Morcom\n",
      "University and work on computability\n",
      "Career and research\n",
      "Cryptanalysis\n",
      "Bombe\n",
      "Action This Day\n",
      "Hut 8 and the naval Enigma\n",
      "Turingery\n",
      "Delilah\n",
      "Early computers and the Turing test\n",
      "Pattern formation and mathematical biology\n",
      "Personal life\n",
      "Engagement\n",
      "Homosexuality and indecency conviction\n",
      "Treasure\n",
      "Death\n",
      "Government apology and pardon\n",
      "Legacy\n",
      "Awards, honours, and tributes\n",
      "Centenary celebrations\n",
      "Notes and references\n",
      "Notes\n",
      "References\n",
      "Sources\n",
      "Further reading\n",
      "Articles\n",
      "Books\n",
      "External links\n"
     ]
    }
   ],
   "source": [
    "headings = soup.select('div.vector-toc-text')\n",
    "for heading in headings:\n",
    "    heading_text = ''\n",
    "    for child in heading.children:\n",
    "        if child.name != 'span':\n",
    "            heading_text += str(child)\n",
    "    print(heading_text.strip())\n",
    "\n",
    "\n"
   ]
  },
  {
   "cell_type": "code",
   "execution_count": 267,
   "metadata": {},
   "outputs": [
    {
     "name": "stdout",
     "output_type": "stream",
     "text": [
      "{'Early life and education': '#Early_life_and_education', 'Family': '#Family', 'School': '#School', 'Christopher Morcom': '#Christopher_Morcom', 'University and work on computability': '#University_and_work_on_computability', 'Career and research': '#Career_and_research', 'Cryptanalysis': '#Cryptanalysis', 'Bombe': '#Bombe', 'Action This Day': '#Action_This_Day', 'Hut 8 and the naval Enigma': '#Hut_8_and_the_naval_Enigma', 'Turingery': '#Turingery', 'Delilah': '#Delilah', 'Early computers and the Turing test': '#Early_computers_and_the_Turing_test', 'Pattern formation and mathematical biology': '#Pattern_formation_and_mathematical_biology', 'Personal life': '#Personal_life', 'Engagement': '#Engagement', 'Homosexuality and indecency conviction': '#Homosexuality_and_indecency_conviction', 'Treasure': '#Treasure', 'Death': '#Death', 'Government apology and pardon': '#Government_apology_and_pardon', 'Legacy': '#Legacy', 'Awards, honours, and tributes': '#Awards,_honours,_and_tributes', 'Centenary celebrations': '#Centenary_celebrations', 'Notes and references': '#Notes_and_references', 'Notes': '#Notes', 'References': '#References', 'Sources': '#Sources', 'Further reading': '#Further_reading', 'Articles': '#Articles', 'Books': '#Books', 'External links': '#External_links'}\n"
     ]
    }
   ],
   "source": [
    "#5 Create a dictionary from the TOC links like: {'first link':'#this_is_the_first_link}\n",
    "\n",
    "headings = soup.select('div.vector-toc-text')\n",
    "striped_list = []\n",
    "\n",
    "for heading in headings:\n",
    "    heading_text = ''\n",
    "    for child in heading.children:\n",
    "        if child.name != 'span':\n",
    "            heading_text += str(child)\n",
    "    striped_list.append(heading_text.strip())\n",
    "\n",
    "striped_list.pop(0)\n",
    "    \n",
    "# Opret en dictionary, hvor overskriftsteksten er nøglen og linket er værdien\n",
    "toc_dict = {}\n",
    "for key, heading in enumerate(striped_list):\n",
    "    href = f'#{heading.replace(\" \", \"_\")}'\n",
    "    toc_dict[heading] = href\n",
    "    \n",
    "# Print dictionariet\n",
    "print(toc_dict)\n"
   ]
  },
  {
   "cell_type": "code",
   "execution_count": 269,
   "metadata": {},
   "outputs": [
    {
     "name": "stdout",
     "output_type": "stream",
     "text": [
      "Content for section related to 'Chr':\n",
      "At Sherborne, Turing formed a significant friendship with fellow pupil Christopher Collan Morcom (13 July 1911 – 13 February 1930),[36] who has been described as Turing's \"first love\". Their relationship provided inspiration in Turing's future endeavours, but it was cut short by Morcom's death, in February 1930, from complications of bovine tuberculosis, contracted after drinking infected cow's milk some years previously.[37][38][39]\n",
      "\n",
      "\n",
      "The event caused Turing great sorrow. He coped with his grief by working that much harder on the topics of science and mathematics that he had shared with Morcom. In a letter to Morcom's mother, Frances Isobel Morcom (née Swan), Turing wrote:\n",
      "I am sure I could not have found anywhere another companion so brilliant and yet so charming and unconceited. I regarded my interest in my work, and in such things as astronomy (to which he introduced me) as something to be shared with him and I think he felt a little the same about me ... I know I must put as much energy if not as much interest into my work as if he were alive, because that is what he would like me to do.[40]\n",
      "\n",
      "Turing's relationship with Morcom's mother continued long after Morcom's death, with her sending gifts to Turing, and him sending letters, typically on Morcom's birthday.[41] A day before the third anniversary of Morcom's death (13 February 1933), he wrote to Mrs. Morcom: \n",
      "I expect you will be thinking of Chris when this reaches you. I shall too, and this letter is just to tell you that I shall be thinking of Chris and of you tomorrow. I am sure that he is as happy now as he was when he was here. Your affectionate Alan.[42]\n",
      "\n",
      "Some have speculated that Morcom's death was the cause of Turing's atheism and materialism.[43] Apparently, at this point in his life he still believed in such concepts as a spirit, independent of the body and surviving death. In a later letter, also written to Morcom's mother, Turing wrote: \n",
      "Personally, I believe that spirit is really eternally connected with matter but certainly not by the same kind of body ... as regards the actual connection between spirit and body I consider that the body can hold on to a 'spirit', whilst the body is alive and awake the two are firmly connected. When the body is asleep I cannot guess what happens but when the body dies, the 'mechanism' of the body, holding the spirit is gone and the spirit finds a new body sooner or later, perhaps immediately.[44][45]\n"
     ]
    }
   ],
   "source": [
    "#6\n",
    "\n",
    "def search_toc(dictionary, word):\n",
    "    search_words = word.lower().split()\n",
    "    for key in dictionary.keys():\n",
    "        if all(search_word in key.lower() for search_word in search_words):\n",
    "            link = dictionary[key]\n",
    "            section = soup.find(id=link[1:])\n",
    "            content = ''\n",
    "            for elem in section.find_all_next():\n",
    "                if elem.name == 'h3':\n",
    "                    break\n",
    "                elif elem.name == 'p':\n",
    "                    content += '\\n' + elem.get_text()\n",
    "            return content.strip()\n",
    "    return f\"No section found matching '{word}'\"\n",
    "\n",
    "word = 'Chr'\n",
    "result = search_toc(toc_dict, word)\n",
    "print(f\"Content for section related to '{word}':\\n{result}\")"
   ]
  },
  {
   "attachments": {},
   "cell_type": "markdown",
   "metadata": {},
   "source": [
    "### Part 2\n",
    "8. Using regex find out how many times 'Turing' is used in the article\n",
    "9. Regex: Find all the sentences that has a year in them (sentense defined by: starting at \\n or dot or comma and ending at dot or comma.    "
   ]
  },
  {
   "cell_type": "code",
   "execution_count": 2,
   "metadata": {},
   "outputs": [
    {
     "name": "stdout",
     "output_type": "stream",
     "text": [
      "438\n",
      "81\n"
     ]
    },
    {
     "data": {
      "text/plain": [
       "\"\\n#Udskriv de fundne match hvis man vil\\n\\ncount = 1\\nfor i in range(0,len(stripped_matches)):\\n    print(f' {count}: {stripped_matches[i]}')\\n    count += 1\\n\\n\""
      ]
     },
     "execution_count": 2,
     "metadata": {},
     "output_type": "execute_result"
    }
   ],
   "source": [
    "#8. Using regex find out how many times 'Turing' is used in the article\n",
    "from bs4 import BeautifulSoup\n",
    "import requests\n",
    "import re\n",
    "\n",
    "url = \"https://en.wikipedia.org/wiki/Alan_Turing\"\n",
    "\n",
    "# Send GET request til URL og gem responsen\n",
    "response = requests.get(url)\n",
    "\n",
    "# Parse HTML-indholdet med BeautifulSoup\n",
    "soup = BeautifulSoup(response.text, 'html.parser')\n",
    "\n",
    "# Find <body>-tagget og udtræk kun den rene tekst fra tagget\n",
    "body_text = soup.body.text\n",
    "\n",
    "# Brug regex til at finde alle forekomster af ordet 'Turing' i teksten\n",
    "pattern = r'Turing'\n",
    "matches = re.findall(pattern, body_text)\n",
    "\n",
    "# Print antallet af forekomster\n",
    "print(len(matches))\n",
    "\n",
    "\n",
    "\n",
    "#9 Regex: Find all the sentences that has a year in them (sentense defined by: \n",
    "# starting at \\n or dot or comma and ending at dot or comma. \n",
    "\n",
    "mw_content_text = soup.find('div', {'id': 'mw-content-text'})\n",
    "p_tags = mw_content_text.find_all('p')\n",
    "text = '\\n'.join(tag.text for tag in p_tags)\n",
    "\n",
    "pattern2 = r'[\\n\\.,][^\\.]*\\b\\d{4}\\b[^\\.]*[\\.,]'\n",
    "matches2 = re.findall(pattern2, text)\n",
    "\n",
    "# Fjern uønskede linjeskift i de mantch der har et linjeskift\n",
    "stripped_matches = [match.replace('\\n', '') for match in matches2]\n",
    "print(len(stripped_matches))\n",
    "\n",
    "\"\"\"\n",
    "#Udskriv de fundne match hvis man vil\n",
    "\n",
    "count = 1\n",
    "for i in range(0,len(stripped_matches)):\n",
    "    print(f' {count}: {stripped_matches[i]}')\n",
    "    count += 1\n",
    "\n",
    "\"\"\"\n",
    "\n",
    "\n",
    "\n"
   ]
  },
  {
   "attachments": {},
   "cell_type": "markdown",
   "metadata": {},
   "source": [
    "### Part 3\n",
    "1. Use selenium to go to amazon.com and search for `Pet Shower Cap - Waterproof Reusable Bath Ear Covers`    \n",
    "2. Print how many products were found    \n",
    "3. Find the cheapest and the most expensive product from the list    "
   ]
  },
  {
   "cell_type": "code",
   "execution_count": 4,
   "metadata": {},
   "outputs": [
    {
     "ename": "WebDriverException",
     "evalue": "Message: Process unexpectedly closed with status 1\n",
     "output_type": "error",
     "traceback": [
      "\u001b[0;31m---------------------------------------------------------------------------\u001b[0m",
      "\u001b[0;31mWebDriverException\u001b[0m                        Traceback (most recent call last)",
      "\u001b[1;32m/home/jovyan/my/my_exercise_files/07_-1Webscrabing_exercises/Week7_Exercise.ipynb Cell 12\u001b[0m in \u001b[0;36m8\n\u001b[1;32m      <a href='vscode-notebook-cell://attached-container%2B7b22636f6e7461696e65724e616d65223a222f6e6f7465626f6f6b736572766572222c2273657474696e6773223a7b22636f6e74657874223a226465736b746f702d6c696e7578227d7d/home/jovyan/my/my_exercise_files/07_-1Webscrabing_exercises/Week7_Exercise.ipynb#X15sdnNjb2RlLXJlbW90ZQ%3D%3D?line=4'>5</a>\u001b[0m \u001b[39mfrom\u001b[39;00m \u001b[39mselenium\u001b[39;00m\u001b[39m.\u001b[39;00m\u001b[39mwebdriver\u001b[39;00m\u001b[39m.\u001b[39;00m\u001b[39mcommon\u001b[39;00m\u001b[39m.\u001b[39;00m\u001b[39mkeys\u001b[39;00m \u001b[39mimport\u001b[39;00m Keys\n\u001b[1;32m      <a href='vscode-notebook-cell://attached-container%2B7b22636f6e7461696e65724e616d65223a222f6e6f7465626f6f6b736572766572222c2273657474696e6773223a7b22636f6e74657874223a226465736b746f702d6c696e7578227d7d/home/jovyan/my/my_exercise_files/07_-1Webscrabing_exercises/Week7_Exercise.ipynb#X15sdnNjb2RlLXJlbW90ZQ%3D%3D?line=6'>7</a>\u001b[0m \u001b[39m# Opretter en instans af WebDriver (i dette tilfælde Firefox)\u001b[39;00m\n\u001b[0;32m----> <a href='vscode-notebook-cell://attached-container%2B7b22636f6e7461696e65724e616d65223a222f6e6f7465626f6f6b736572766572222c2273657474696e6773223a7b22636f6e74657874223a226465736b746f702d6c696e7578227d7d/home/jovyan/my/my_exercise_files/07_-1Webscrabing_exercises/Week7_Exercise.ipynb#X15sdnNjb2RlLXJlbW90ZQ%3D%3D?line=7'>8</a>\u001b[0m driver \u001b[39m=\u001b[39m webdriver\u001b[39m.\u001b[39;49mFirefox()\n\u001b[1;32m     <a href='vscode-notebook-cell://attached-container%2B7b22636f6e7461696e65724e616d65223a222f6e6f7465626f6f6b736572766572222c2273657474696e6773223a7b22636f6e74657874223a226465736b746f702d6c696e7578227d7d/home/jovyan/my/my_exercise_files/07_-1Webscrabing_exercises/Week7_Exercise.ipynb#X15sdnNjb2RlLXJlbW90ZQ%3D%3D?line=9'>10</a>\u001b[0m \u001b[39m# Åbner en hjemmeside\u001b[39;00m\n\u001b[1;32m     <a href='vscode-notebook-cell://attached-container%2B7b22636f6e7461696e65724e616d65223a222f6e6f7465626f6f6b736572766572222c2273657474696e6773223a7b22636f6e74657874223a226465736b746f702d6c696e7578227d7d/home/jovyan/my/my_exercise_files/07_-1Webscrabing_exercises/Week7_Exercise.ipynb#X15sdnNjb2RlLXJlbW90ZQ%3D%3D?line=10'>11</a>\u001b[0m driver\u001b[39m.\u001b[39mget(\u001b[39m\"\u001b[39m\u001b[39mhttps://www.google.com\u001b[39m\u001b[39m\"\u001b[39m)\n",
      "File \u001b[0;32m/opt/conda/lib/python3.10/site-packages/selenium/webdriver/firefox/webdriver.py:178\u001b[0m, in \u001b[0;36mWebDriver.__init__\u001b[0;34m(self, firefox_profile, firefox_binary, capabilities, proxy, executable_path, options, service_log_path, service_args, service, desired_capabilities, log_path, keep_alive)\u001b[0m\n\u001b[1;32m    173\u001b[0m \u001b[39mself\u001b[39m\u001b[39m.\u001b[39mservice\u001b[39m.\u001b[39mstart()\n\u001b[1;32m    175\u001b[0m executor \u001b[39m=\u001b[39m FirefoxRemoteConnection(\n\u001b[1;32m    176\u001b[0m     remote_server_addr\u001b[39m=\u001b[39m\u001b[39mself\u001b[39m\u001b[39m.\u001b[39mservice\u001b[39m.\u001b[39mservice_url,\n\u001b[1;32m    177\u001b[0m     ignore_proxy\u001b[39m=\u001b[39moptions\u001b[39m.\u001b[39m_ignore_local_proxy)\n\u001b[0;32m--> 178\u001b[0m RemoteWebDriver\u001b[39m.\u001b[39;49m\u001b[39m__init__\u001b[39;49m(\n\u001b[1;32m    179\u001b[0m     \u001b[39mself\u001b[39;49m,\n\u001b[1;32m    180\u001b[0m     command_executor\u001b[39m=\u001b[39;49mexecutor,\n\u001b[1;32m    181\u001b[0m     options\u001b[39m=\u001b[39;49moptions,\n\u001b[1;32m    182\u001b[0m     keep_alive\u001b[39m=\u001b[39;49m\u001b[39mTrue\u001b[39;49;00m)\n\u001b[1;32m    184\u001b[0m \u001b[39mself\u001b[39m\u001b[39m.\u001b[39m_is_remote \u001b[39m=\u001b[39m \u001b[39mFalse\u001b[39;00m\n",
      "File \u001b[0;32m/opt/conda/lib/python3.10/site-packages/selenium/webdriver/remote/webdriver.py:269\u001b[0m, in \u001b[0;36mWebDriver.__init__\u001b[0;34m(self, command_executor, desired_capabilities, browser_profile, proxy, keep_alive, file_detector, options)\u001b[0m\n\u001b[1;32m    267\u001b[0m \u001b[39mself\u001b[39m\u001b[39m.\u001b[39mfile_detector \u001b[39m=\u001b[39m file_detector \u001b[39mor\u001b[39;00m LocalFileDetector()\n\u001b[1;32m    268\u001b[0m \u001b[39mself\u001b[39m\u001b[39m.\u001b[39mstart_client()\n\u001b[0;32m--> 269\u001b[0m \u001b[39mself\u001b[39;49m\u001b[39m.\u001b[39;49mstart_session(capabilities, browser_profile)\n",
      "File \u001b[0;32m/opt/conda/lib/python3.10/site-packages/selenium/webdriver/remote/webdriver.py:360\u001b[0m, in \u001b[0;36mWebDriver.start_session\u001b[0;34m(self, capabilities, browser_profile)\u001b[0m\n\u001b[1;32m    357\u001b[0m w3c_caps \u001b[39m=\u001b[39m _make_w3c_caps(capabilities)\n\u001b[1;32m    358\u001b[0m parameters \u001b[39m=\u001b[39m {\u001b[39m\"\u001b[39m\u001b[39mcapabilities\u001b[39m\u001b[39m\"\u001b[39m: w3c_caps,\n\u001b[1;32m    359\u001b[0m               \u001b[39m\"\u001b[39m\u001b[39mdesiredCapabilities\u001b[39m\u001b[39m\"\u001b[39m: capabilities}\n\u001b[0;32m--> 360\u001b[0m response \u001b[39m=\u001b[39m \u001b[39mself\u001b[39;49m\u001b[39m.\u001b[39;49mexecute(Command\u001b[39m.\u001b[39;49mNEW_SESSION, parameters)\n\u001b[1;32m    361\u001b[0m \u001b[39mif\u001b[39;00m \u001b[39m'\u001b[39m\u001b[39msessionId\u001b[39m\u001b[39m'\u001b[39m \u001b[39mnot\u001b[39;00m \u001b[39min\u001b[39;00m response:\n\u001b[1;32m    362\u001b[0m     response \u001b[39m=\u001b[39m response[\u001b[39m'\u001b[39m\u001b[39mvalue\u001b[39m\u001b[39m'\u001b[39m]\n",
      "File \u001b[0;32m/opt/conda/lib/python3.10/site-packages/selenium/webdriver/remote/webdriver.py:425\u001b[0m, in \u001b[0;36mWebDriver.execute\u001b[0;34m(self, driver_command, params)\u001b[0m\n\u001b[1;32m    423\u001b[0m response \u001b[39m=\u001b[39m \u001b[39mself\u001b[39m\u001b[39m.\u001b[39mcommand_executor\u001b[39m.\u001b[39mexecute(driver_command, params)\n\u001b[1;32m    424\u001b[0m \u001b[39mif\u001b[39;00m response:\n\u001b[0;32m--> 425\u001b[0m     \u001b[39mself\u001b[39;49m\u001b[39m.\u001b[39;49merror_handler\u001b[39m.\u001b[39;49mcheck_response(response)\n\u001b[1;32m    426\u001b[0m     response[\u001b[39m'\u001b[39m\u001b[39mvalue\u001b[39m\u001b[39m'\u001b[39m] \u001b[39m=\u001b[39m \u001b[39mself\u001b[39m\u001b[39m.\u001b[39m_unwrap_value(\n\u001b[1;32m    427\u001b[0m         response\u001b[39m.\u001b[39mget(\u001b[39m'\u001b[39m\u001b[39mvalue\u001b[39m\u001b[39m'\u001b[39m, \u001b[39mNone\u001b[39;00m))\n\u001b[1;32m    428\u001b[0m     \u001b[39mreturn\u001b[39;00m response\n",
      "File \u001b[0;32m/opt/conda/lib/python3.10/site-packages/selenium/webdriver/remote/errorhandler.py:247\u001b[0m, in \u001b[0;36mErrorHandler.check_response\u001b[0;34m(self, response)\u001b[0m\n\u001b[1;32m    245\u001b[0m         alert_text \u001b[39m=\u001b[39m value[\u001b[39m'\u001b[39m\u001b[39malert\u001b[39m\u001b[39m'\u001b[39m]\u001b[39m.\u001b[39mget(\u001b[39m'\u001b[39m\u001b[39mtext\u001b[39m\u001b[39m'\u001b[39m)\n\u001b[1;32m    246\u001b[0m     \u001b[39mraise\u001b[39;00m exception_class(message, screen, stacktrace, alert_text)  \u001b[39m# type: ignore[call-arg]  # mypy is not smart enough here\u001b[39;00m\n\u001b[0;32m--> 247\u001b[0m \u001b[39mraise\u001b[39;00m exception_class(message, screen, stacktrace)\n",
      "\u001b[0;31mWebDriverException\u001b[0m: Message: Process unexpectedly closed with status 1\n"
     ]
    }
   ],
   "source": [
    "# Part3\n",
    "#1. Use selenium to go to amazon.com and search for `Pet Shower Cap - Waterproof Reusable Bath Ear Covers`\n",
    "\n",
    "from selenium import webdriver\n",
    "from selenium.webdriver.common.keys import Keys\n",
    "\n",
    "# Opretter en instans af WebDriver (i dette tilfælde Firefox)\n",
    "driver = webdriver.Firefox()\n",
    "\n",
    "# Åbner en hjemmeside\n",
    "driver.get(\"https://www.google.com\")\n",
    "\n",
    "# Få titlen på siden\n",
    "title = driver.title\n",
    "\n",
    "# Udskriv titlen på siden\n",
    "print(title)\n",
    "\n",
    "# Søger efter \"Selenium\" på Google\n",
    "search_box = driver.find_element_by_name(\"q\")\n",
    "search_box.send_keys(\"Selenium\")\n",
    "search_box.send_keys(Keys.RETURN)\n",
    "\n",
    "# Vent på, at søgeresultaterne vises\n",
    "driver.implicitly_wait(10)\n",
    "\n",
    "# Udskriv antallet af søgeresultater\n",
    "results = driver.find_elements_by_css_selector(\"h3\")\n",
    "print(len(results))\n",
    "\n",
    "# Lukker browseren\n",
    "driver.quit()\n",
    "\n"
   ]
  },
  {
   "cell_type": "code",
   "execution_count": null,
   "metadata": {},
   "outputs": [],
   "source": []
  }
 ],
 "metadata": {
  "kernelspec": {
   "display_name": "base",
   "language": "python",
   "name": "python3"
  },
  "language_info": {
   "codemirror_mode": {
    "name": "ipython",
    "version": 3
   },
   "file_extension": ".py",
   "mimetype": "text/x-python",
   "name": "python",
   "nbconvert_exporter": "python",
   "pygments_lexer": "ipython3",
   "version": "3.9.6"
  },
  "orig_nbformat": 4
 },
 "nbformat": 4,
 "nbformat_minor": 2
}
