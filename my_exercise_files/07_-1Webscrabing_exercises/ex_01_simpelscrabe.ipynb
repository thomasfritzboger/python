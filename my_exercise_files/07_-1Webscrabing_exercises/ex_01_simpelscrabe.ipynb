{
 "cells": [
  {
   "cell_type": "code",
   "execution_count": null,
   "metadata": {},
   "outputs": [],
   "source": [
    "import bs4\n",
    "\n",
    "with open('./data/example.html') as f:\n",
    "    example_html = f.read()\n",
    "    \n",
    "soup = bs4.BeautifulSoup(example_html)\n",
    "print(type(soup))\n",
    "print(soup.prettify())"
   ]
  },
  {
   "cell_type": "code",
   "execution_count": null,
   "metadata": {},
   "outputs": [],
   "source": [
    "import bs4\n",
    "import requests\n",
    "\n",
    "\n",
    "r = requests.get('https://github.com/datsoftlyngby/dat4sem2020spring-python')\n",
    "r.raise_for_status()\n",
    "soup = bs4.BeautifulSoup(r.text, 'html.parser')\n",
    "\n",
    "print(soup.prettify()[:1500])"
   ]
  },
  {
   "cell_type": "code",
   "execution_count": 3,
   "metadata": {},
   "outputs": [
    {
     "name": "stdout",
     "output_type": "stream",
     "text": [
      "1: return type of select() <class 'bs4.element.ResultSet'>\n",
      "2: length of the returned list 1\n",
      "3: type of elements in the list <class 'bs4.element.Tag'>\n",
      "4: get text from the element \n",
      "Hello World!\n",
      "You are extremely welcome!\n",
      "5: string representation of an element:  <body>\n",
      "<h1>Hello World!</h1>\n",
      "You are extremely welcome!<br/>\n",
      "<br/>\n",
      "The <a href='\\\"https://github.com/datsoftlyngby/dat4sem2019spring-python-materials\\\"'>Lecture Notes</a>.<br/>\n",
      "<div>\n",
      "<p>paragraph 1</p>\n",
      "<p>and paragraph 2: <span id=\"span01\">This is span 1</span><span id=\"span03\">Second span element</span>\n",
      "<span class=\"red_border\">Here is the third span</span>\n",
      "</p>\n",
      "</div>\n",
      "</body>\n",
      "6: the attributes of the element:  {}\n",
      "{'id': 'span01'}\n",
      "{'id': 'span03'}\n",
      "{'class': ['red_border']}\n",
      "Hello!\n"
     ]
    }
   ],
   "source": [
    "import bs4\n",
    "\n",
    "\n",
    "with open('./data/example.html') as f:\n",
    "    example_html = f.read()\n",
    "\n",
    "soup = bs4.BeautifulSoup(example_html, 'html.parser')\n",
    "\n",
    "elems = soup.select('body')\n",
    "\n",
    "#print(soup.prettify())\n",
    "print('1: return type of select()',type(elems))\n",
    "print('2: length of the returned list',len(elems))\n",
    "print('3: type of elements in the list',type(elems[0]))\n",
    "print('4: get text from the element',elems[0].getText()[:40])\n",
    "print('5: string representation of an element: ',str(elems[0]))\n",
    "print('6: the attributes of the element: ',elems[0].attrs)\n",
    "elements = soup.select('div > p > span')\n",
    "for element in elements:\n",
    "    print(element.attrs)\n",
    "print(soup.title.text)"
   ]
  },
  {
   "cell_type": "code",
   "execution_count": 4,
   "metadata": {},
   "outputs": [
    {
     "name": "stdout",
     "output_type": "stream",
     "text": [
      "<p>paragraph 1</p>\n",
      "paragraph 1\n",
      "------------\n",
      "<p>and paragraph 2: <span id=\"span01\">This is span 1</span><span id=\"span03\">Second span element</span>\n",
      "<span class=\"red_border\">Here is the third span</span>\n",
      "</p>\n",
      "and paragraph 2: This is span 1Second span element\n",
      "Here is the third span\n",
      "\n",
      "------------\n"
     ]
    }
   ],
   "source": [
    "p_elems = soup.select('p')\n",
    "\n",
    "for el in p_elems:\n",
    "    print(str(el))\n",
    "    print(el.getText())\n",
    "    print('------------')"
   ]
  },
  {
   "cell_type": "code",
   "execution_count": 8,
   "metadata": {},
   "outputs": [
    {
     "name": "stdout",
     "output_type": "stream",
     "text": [
      "<span id=\"span01\">This is span 1</span>\n",
      "span01\n",
      "True\n",
      "{'id': 'span01'}\n",
      "This is span 1\n"
     ]
    }
   ],
   "source": [
    "import bs4\n",
    "\n",
    "with open('./data/example.html') as f:\n",
    "    example_html = f.read()\n",
    "    \n",
    "soup = bs4.BeautifulSoup(example_html, 'html.parser')\n",
    "# soup.find_all?\n",
    "span_elem = soup.select('span')[0]\n",
    "print(str(span_elem))\n",
    "print(span_elem.get('id'))\n",
    "print(span_elem.get('some_nonexistent_addr') == None)\n",
    "print(span_elem.attrs)\n",
    "print(span_elem.getText())"
   ]
  },
  {
   "attachments": {},
   "cell_type": "markdown",
   "metadata": {},
   "source": [
    "Forskellen mellem select og find/find_all-funktionerne i BeautifulSoup er den måde, de søger efter HTML-elementer i et dokument.\n",
    "\n",
    "select-funktionen bruger CSS-selektorer til at finde elementer. Du kan bruge CSS-selektorer til at specificere, hvilke typer af elementer eller hvilke egenskaber elementer skal have, for at matche din søgning. select-funktionen returnerer en liste over alle matchende elementer.\n",
    "\n",
    "find/find_all-funktionerne bruger derimod et hierarkisk træ til at søge efter elementer i dokumentet. Du kan angive navnet på et element, og funktionen vil finde det første matchende element. Hvis du bruger find_all-funktionen, vil den returnere en liste over alle matchende elementer.\n",
    "\n",
    "Generelt set er select-funktionen mere fleksibel end find/find_all-funktionerne, da du kan specificere mere komplekse søgninger ved hjælp af CSS-selektorer. Men hvis du ved, at du kun vil have det første matchende element eller en liste over alle matchende elementer, kan find/find_all-funktionerne være mere effektive."
   ]
  }
 ],
 "metadata": {
  "kernelspec": {
   "display_name": "base",
   "language": "python",
   "name": "python3"
  },
  "language_info": {
   "codemirror_mode": {
    "name": "ipython",
    "version": 3
   },
   "file_extension": ".py",
   "mimetype": "text/x-python",
   "name": "python",
   "nbconvert_exporter": "python",
   "pygments_lexer": "ipython3",
   "version": "3.10.6"
  },
  "orig_nbformat": 4
 },
 "nbformat": 4,
 "nbformat_minor": 2
}
