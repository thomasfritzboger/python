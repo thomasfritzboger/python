{
 "cells": [
  {
   "cell_type": "markdown",
   "id": "9af00996-7821-4eb4-ba3d-760bb5395dd8",
   "metadata": {},
   "source": [
    "## Ex 1\n",
    "Data = 'https://think.cs.vt.edu/corgis/datasets/csv/cars/cars.csv'\n",
    "\n",
    "Download the data <br>\n",
    "Programatically download the data from the above link. <br>\n",
    "Import the data into a Pandas dataframe. <br>\n",
    "Show the head of the Pandas dataframe. <br> <br>\n",
    "Feature engineering <br>\n",
    "Reduce the dataset by: <br>\n",
    "Make == Honda <br>\n",
    "Fueltype == Gasoline <br>\n",
    "Remove outliers.  <br>\n",
    "Hint: df[column name'] < df['column name'].quantile(0.90) <br>\n",
    "Only use 2 features: <br> \n",
    "'Fuel Information.Highway mpg' and 'Engine Information.Engine Statistics.Horsepower'  <br>\n",
    "Normalize data (reduce values to be between 0 and 1) <br> <br>\n",
    "Linear regression <br>\n",
    "Perform linear regression where x = horsepower and y = mpg <br>\n",
    "What is the coefficient (slope) of your model? What does this number mean? <br>\n",
    "According to your model, what is y when x=1. <br>\n",
    "Show the regression line on a scatterplot with the other datapoints."
   ]
  },
  {
   "cell_type": "code",
   "execution_count": 1,
   "id": "1cd771a8-2c26-4bc3-9dec-82b428184935",
   "metadata": {},
   "outputs": [
    {
     "name": "stdout",
     "output_type": "stream",
     "text": [
      "Index(['Dimensions.Height', 'Dimensions.Length', 'Dimensions.Width',\n",
      "       'Engine Information.Driveline', 'Engine Information.Engine Type',\n",
      "       'Engine Information.Hybrid',\n",
      "       'Engine Information.Number of Forward Gears',\n",
      "       'Engine Information.Transmission', 'Fuel Information.City mpg',\n",
      "       'Fuel Information.Fuel Type', 'Fuel Information.Highway mpg',\n",
      "       'Identification.Classification', 'Identification.ID',\n",
      "       'Identification.Make', 'Identification.Model Year',\n",
      "       'Identification.Year',\n",
      "       'Engine Information.Engine Statistics.Horsepower',\n",
      "       'Engine Information.Engine Statistics.Torque'],\n",
      "      dtype='object')\n"
     ]
    }
   ],
   "source": [
    "import pandas as pd\n",
    "import urllib.request\n",
    "\n",
    "# URL til biler dataset\n",
    "url = 'https://think.cs.vt.edu/corgis/datasets/csv/cars/cars.csv'\n",
    "\n",
    "# Download dataset og gem det i en lokal fil\n",
    "filename = 'cars.csv'\n",
    "urllib.request.urlretrieve(url, filename)\n",
    "\n",
    "# Importer data til Pandas DataFrame\n",
    "df = pd.read_csv(filename)\n",
    "\n",
    "# Vis hovedet af dataframen\n",
    "print(df.columns)\n",
    "\n"
   ]
  },
  {
   "cell_type": "code",
   "execution_count": 2,
   "id": "7b5714e6-5a5e-4881-b70a-9cad4a81293b",
   "metadata": {},
   "outputs": [
    {
     "name": "stdout",
     "output_type": "stream",
     "text": [
      "     Fuel Information.Highway mpg  \\\n",
      "102                            31   \n",
      "103                            31   \n",
      "104                            31   \n",
      "106                            31   \n",
      "107                            31   \n",
      "\n",
      "     Engine Information.Engine Statistics.Horsepower  \n",
      "102                                              190  \n",
      "103                                              190  \n",
      "104                                              190  \n",
      "106                                              190  \n",
      "107                                              190  \n"
     ]
    }
   ],
   "source": [
    "# Vælg kun Honda-biler med Gasoline fueltype\n",
    "df = df[(df['Identification.Make'] == 'Honda') & (df['Fuel Information.Fuel Type'] == 'Gasoline')]\n",
    "\n",
    "# Fjern outliers\n",
    "df = df[(df['Engine Information.Engine Statistics.Horsepower'] < df['Engine Information.Engine Statistics.Horsepower'].quantile(0.90)) &\n",
    "        (df['Fuel Information.Highway mpg'] < df['Fuel Information.Highway mpg'].quantile(0.90))]\n",
    "\n",
    "# Kun brug 2 features\n",
    "df = df[['Fuel Information.Highway mpg', 'Engine Information.Engine Statistics.Horsepower']]\n",
    "\n",
    "# Vis hovedet af dataframen\n",
    "print(df.head())\n"
   ]
  },
  {
   "cell_type": "code",
   "execution_count": 44,
   "id": "d48a1ddd-9c04-4ac1-a20d-ed71edeaff82",
   "metadata": {},
   "outputs": [
    {
     "name": "stdout",
     "output_type": "stream",
     "text": [
      "   Fuel Information.Highway mpg  \\\n",
      "0                      0.733333   \n",
      "1                      0.733333   \n",
      "2                      0.733333   \n",
      "3                      0.733333   \n",
      "4                      0.733333   \n",
      "\n",
      "   Engine Information.Engine Statistics.Horsepower  \n",
      "0                                         0.548872  \n",
      "1                                         0.548872  \n",
      "2                                         0.548872  \n",
      "3                                         0.548872  \n",
      "4                                         0.548872  \n"
     ]
    }
   ],
   "source": [
    "from sklearn.preprocessing import MinMaxScaler\n",
    "\n",
    "# Skalér data mellem 0 og 1\n",
    "scaler = MinMaxScaler()\n",
    "df_scaled = pd.DataFrame(scaler.fit_transform(df), columns=df.columns)\n",
    "\n",
    "# Vis de normaliserede data\n",
    "print(df_scaled.head())"
   ]
  },
  {
   "cell_type": "code",
   "execution_count": 49,
   "id": "b80d2156-83ad-4e5c-bd96-1c13a951dcd8",
   "metadata": {},
   "outputs": [
    {
     "name": "stdout",
     "output_type": "stream",
     "text": [
      "Random state: 10 R2 score: 0.4774136495745025\n",
      "Random state: 20 R2 score: 0.5936699279257507\n",
      "Random state: 30 R2 score: 0.5350559743499232\n",
      "Random state: 40 R2 score: 0.5299167249079221\n",
      "Random state: 50 R2 score: 0.6179174118593251\n",
      "Random state: 60 R2 score: 0.47476050359616884\n",
      "Random state: 70 R2 score: 0.6227650423073401\n",
      "Random state: 80 R2 score: 0.41448974807526706\n",
      "Random state: 90 R2 score: 0.6213668618052612\n",
      "Random state: 100 R2 score: 0.6167302053854077\n",
      "Bedste random state: 70 Bedste R2 score: 0.6227650423073401\n"
     ]
    }
   ],
   "source": [
    "#Understående er ikke nødvendigt, men man kan søge at finde den bedste random state\n",
    "\n",
    "from sklearn.linear_model import LinearRegression\n",
    "from sklearn.model_selection import train_test_split\n",
    "from sklearn.metrics import r2_score\n",
    "\n",
    "# Definer x og y\n",
    "X = df['Engine Information.Engine Statistics.Horsepower'].values.reshape(-1, 1)\n",
    "y = df['Fuel Information.Highway mpg']\n",
    "\n",
    "# Opdel data i træning og test\n",
    "X_train, X_test, y_train, y_test = train_test_split(X, y, test_size=0.2, random_state=50)\n",
    "\n",
    "# Definer en liste af random_state-værdier at teste med\n",
    "random_states = [10, 20, 30, 40, 50, 60, 70, 80, 90, 100]\n",
    "\n",
    "# Initialiser variabler til at holde styr på bedste random_state og R2 score\n",
    "best_random_state = 0\n",
    "best_score = 0\n",
    "\n",
    "# Loop gennem random_state-værdierne og test modellen\n",
    "for random_state in random_states:\n",
    "    X_train, X_test, y_train, y_test = train_test_split(X, y, test_size=0.2, random_state=random_state)\n",
    "    model = LinearRegression()\n",
    "    model.fit(X_train, y_train)\n",
    "    y_pred = model.predict(X_test)\n",
    "    score = r2_score(y_test, y_pred)\n",
    "    print('Random state:', random_state, 'R2 score:', score)\n",
    "    if score > best_score:\n",
    "        best_score = score\n",
    "        best_random_state = random_state\n",
    "\n",
    "# Træn modellen med den bedste random_state-værdi og udskriv R2 score\n",
    "X_train, X_test, y_train, y_test = train_test_split(X, y, test_size=0.2, random_state=best_random_state)\n",
    "model = LinearRegression()\n",
    "model.fit(X_train, y_train)\n",
    "y_pred = model.predict(X_test)\n",
    "score = r2_score(y_test, y_pred)\n",
    "print('Bedste random state:', best_random_state, 'Bedste R2 score:', score)\n"
   ]
  },
  {
   "cell_type": "code",
   "execution_count": 47,
   "id": "5aebb382-fb68-4fa7-ad85-963702c73ffa",
   "metadata": {},
   "outputs": [
    {
     "name": "stdout",
     "output_type": "stream",
     "text": [
      "Koefficienten er: -0.07727082152802488\n",
      "Da koefficient er <0 betyder det flere hestekræfter = kortere/gallon\n",
      "R2 score: 0.6227650423073401\n"
     ]
    }
   ],
   "source": [
    "from sklearn.linear_model import LinearRegression\n",
    "from sklearn.model_selection import train_test_split\n",
    "from sklearn.metrics import r2_score\n",
    "\n",
    "# Definer x og y\n",
    "X = df['Engine Information.Engine Statistics.Horsepower'].values.reshape(-1, 1)\n",
    "y = df['Fuel Information.Highway mpg']\n",
    "\n",
    "# Opdel data i træning og test\n",
    "X_train, X_test, y_train, y_test = train_test_split(X, y, test_size=0.2, random_state=70)\n",
    "\n",
    "# Træn modellen\n",
    "model = LinearRegression()\n",
    "model.fit(X_train, y_train)\n",
    "\n",
    "# Forudsige på test-sættet\n",
    "y_pred = model.predict(X_test)\n",
    "\n",
    "print('Koefficienten er:', model.coef_[0])\n",
    "print('Da koefficient er <0 betyder det flere hestekræfter = kortere/gallon')\n",
    "\n",
    "# Evaluere modellen\n",
    "score = r2_score(y_test, y_pred)\n",
    "print('R2 score:', score)"
   ]
  },
  {
   "cell_type": "code",
   "execution_count": 40,
   "id": "123369de-5480-4a79-b06a-c03255a4fbc9",
   "metadata": {},
   "outputs": [
    {
     "name": "stdout",
     "output_type": "stream",
     "text": [
      "Forventet y-værdi for x=1: 43.13841476748786\n"
     ]
    }
   ],
   "source": [
    "#Forudsig mpg med 1 horsepower\n",
    "x_new = [[1]] \n",
    "predicted_y = model.predict(x_new)\n",
    "print('Forventet y-værdi for x=1:', predicted_y[0])\n"
   ]
  },
  {
   "cell_type": "code",
   "execution_count": 48,
   "id": "e065dfbe-1fd6-4bb2-8fcf-43a8d34d7073",
   "metadata": {},
   "outputs": [
    {
     "data": {
      "image/png": "[encoded data removed]",
      "text/plain": [
       "<Figure size 640x480 with 1 Axes>"
      ]
     },
     "metadata": {},
     "output_type": "display_data"
    }
   ],
   "source": [
    "import matplotlib.pyplot as plt\n",
    "\n",
    "# Plot scatterplot\n",
    "plt.scatter(X_test, y_test)\n",
    "\n",
    "# Forudsige y-værdier for x-værdier i test-sættet\n",
    "y_pred = model.predict(X_test)\n",
    "\n",
    "# Plot regression linje\n",
    "plt.plot(X_test, y_pred, color='red', linewidth=2)\n",
    "\n",
    "# Tilføj akser label og titel\n",
    "plt.xlabel('Horsepower')\n",
    "plt.ylabel('Highway mpg')\n",
    "plt.title('Regression Line')\n",
    "\n",
    "# Vis plot\n",
    "plt.show()\n"
   ]
  },
  {
   "cell_type": "code",
   "execution_count": null,
   "id": "c6aa4538-a0fd-4832-ba60-7930e9b022fb",
   "metadata": {},
   "outputs": [],
   "source": []
  }
 ],
 "metadata": {
  "kernelspec": {
   "display_name": "Python 3 (ipykernel)",
   "language": "python",
   "name": "python3"
  },
  "language_info": {
   "codemirror_mode": {
    "name": "ipython",
    "version": 3
   },
   "file_extension": ".py",
   "mimetype": "text/x-python",
   "name": "python",
   "nbconvert_exporter": "python",
   "pygments_lexer": "ipython3",
   "version": "3.10.6"
  }
 },
 "nbformat": 4,
 "nbformat_minor": 5
}
