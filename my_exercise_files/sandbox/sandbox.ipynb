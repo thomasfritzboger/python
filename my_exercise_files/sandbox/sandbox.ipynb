{
 "cells": [
  {
   "cell_type": "code",
   "execution_count": 4,
   "id": "a47311dd-1670-42c5-9373-a3b9c0544ffd",
   "metadata": {},
   "outputs": [
    {
     "name": "stdout",
     "output_type": "stream",
     "text": [
      "5\n",
      "6\n",
      "11\n"
     ]
    }
   ],
   "source": [
    "def outer(x):\n",
    "    def inner(y):\n",
    "        print(x)\n",
    "        print(y)\n",
    "        return x + y\n",
    "    return inner\n",
    "\n",
    "add_five = outer(5) # add_five reference til en variabel med inner funktion og x=5\n",
    "\n",
    "result = add_five(6) # result her kaldes inner med værdien 6 og den gemte x værdi (5)\n",
    "print(result)  # prints 11\n",
    "\n"
   ]
  }
 ],
 "metadata": {
  "kernelspec": {
   "display_name": "Python 3 (ipykernel)",
   "language": "python",
   "name": "python3"
  },
  "language_info": {
   "codemirror_mode": {
    "name": "ipython",
    "version": 3
   },
   "file_extension": ".py",
   "mimetype": "text/x-python",
   "name": "python",
   "nbconvert_exporter": "python",
   "pygments_lexer": "ipython3",
   "version": "3.10.6"
  }
 },
 "nbformat": 4,
 "nbformat_minor": 5
}
