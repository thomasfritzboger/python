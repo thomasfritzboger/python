{
 "cells": [
  {
   "cell_type": "code",
   "execution_count": 20,
   "id": "7d2ec492-0f67-4c99-8bdc-c848fece328d",
   "metadata": {},
   "outputs": [
    {
     "name": "stdout",
     "output_type": "stream",
     "text": [
      "(625, 5)\n",
      "   0  1  2  3  4\n",
      "0  B  1  1  1  1\n",
      "1  R  1  1  1  2\n",
      "2  R  1  1  1  3\n",
      "3  R  1  1  1  4\n",
      "4  R  1  1  1  5\n"
     ]
    }
   ],
   "source": [
    "import numpy as np \n",
    "import pandas as pd \n",
    "from sklearn.metrics import confusion_matrix \n",
    "from sklearn.model_selection import train_test_split \n",
    "from sklearn.tree import DecisionTreeClassifier \n",
    "from sklearn.metrics import accuracy_score \n",
    "from sklearn.metrics import classification_report \n",
    "\n",
    "url = \"https://archive.ics.uci.edu/ml/machine-learning-databases/balance-scale/balance-scale.data\"\n",
    "df = pd.read_csv(url, header=None)\n",
    "\n",
    "print(df.shape) # viser antallet af rækker og kolonner i datasættet\n",
    "print(df.head()) # viser de første fem rækker i datasættet\n"
   ]
  },
  {
   "cell_type": "code",
   "execution_count": 21,
   "id": "cec40c14-9660-4371-bce6-669bfaff190d",
   "metadata": {},
   "outputs": [
    {
     "name": "stdout",
     "output_type": "stream",
     "text": [
      "(500, 4) (500,)\n",
      "(125, 4) (125,)\n"
     ]
    }
   ],
   "source": [
    "#Nu skal vi opdele datasættet i trænings- og testdatasæt, så vi kan træne vores beslutningstræmodel \n",
    "#og evaluere dens ydeevne.\n",
    "\n",
    "\"\"\"\n",
    "Vi vil bruge inputvariablerne til at forudsige labelsne, så vi deler \n",
    "datasættet i to dele - inputvariabler og labels - ved hjælp af \"iloc\" funktionen fra Pandas. \n",
    "Vi gemmer inputvariablerne i variablen \"X\" og labelsne i variablen \"y\"\n",
    "\n",
    "For at træne og evaluere vores beslutningstræmodel deler vi datasættet i to dele - \n",
    "trænings- og testdatasæt \n",
    "\"\"\"\n",
    "\n",
    "X = df.iloc[:, 1:].values # inputværdierne\n",
    "y = df.iloc[:, 0].values # labelsne\n",
    "\n",
    "X_train, X_test, y_train, y_test = train_test_split(X, y, test_size=0.2, random_state=42)\n",
    "\n",
    "print(X_train.shape, y_train.shape) # viser antallet af træningsdata\n",
    "print(X_test.shape, y_test.shape) # viser antallet af testdata\n"
   ]
  },
  {
   "cell_type": "code",
   "execution_count": 22,
   "id": "67ca87ca-b63f-4142-8f48-86507104c3f4",
   "metadata": {},
   "outputs": [
    {
     "data": {
      "text/html": [
       "<style>#sk-container-id-4 {color: black;background-color: white;}#sk-container-id-4 pre{padding: 0;}#sk-container-id-4 div.sk-toggleable {background-color: white;}#sk-container-id-4 label.sk-toggleable__label {cursor: pointer;display: block;width: 100%;margin-bottom: 0;padding: 0.3em;box-sizing: border-box;text-align: center;}#sk-container-id-4 label.sk-toggleable__label-arrow:before {content: \"▸\";float: left;margin-right: 0.25em;color: #696969;}#sk-container-id-4 label.sk-toggleable__label-arrow:hover:before {color: black;}#sk-container-id-4 div.sk-estimator:hover label.sk-toggleable__label-arrow:before {color: black;}#sk-container-id-4 div.sk-toggleable__content {max-height: 0;max-width: 0;overflow: hidden;text-align: left;background-color: #f0f8ff;}#sk-container-id-4 div.sk-toggleable__content pre {margin: 0.2em;color: black;border-radius: 0.25em;background-color: #f0f8ff;}#sk-container-id-4 input.sk-toggleable__control:checked~div.sk-toggleable__content {max-height: 200px;max-width: 100%;overflow: auto;}#sk-container-id-4 input.sk-toggleable__control:checked~label.sk-toggleable__label-arrow:before {content: \"▾\";}#sk-container-id-4 div.sk-estimator input.sk-toggleable__control:checked~label.sk-toggleable__label {background-color: #d4ebff;}#sk-container-id-4 div.sk-label input.sk-toggleable__control:checked~label.sk-toggleable__label {background-color: #d4ebff;}#sk-container-id-4 input.sk-hidden--visually {border: 0;clip: rect(1px 1px 1px 1px);clip: rect(1px, 1px, 1px, 1px);height: 1px;margin: -1px;overflow: hidden;padding: 0;position: absolute;width: 1px;}#sk-container-id-4 div.sk-estimator {font-family: monospace;background-color: #f0f8ff;border: 1px dotted black;border-radius: 0.25em;box-sizing: border-box;margin-bottom: 0.5em;}#sk-container-id-4 div.sk-estimator:hover {background-color: #d4ebff;}#sk-container-id-4 div.sk-parallel-item::after {content: \"\";width: 100%;border-bottom: 1px solid gray;flex-grow: 1;}#sk-container-id-4 div.sk-label:hover label.sk-toggleable__label {background-color: #d4ebff;}#sk-container-id-4 div.sk-serial::before {content: \"\";position: absolute;border-left: 1px solid gray;box-sizing: border-box;top: 0;bottom: 0;left: 50%;z-index: 0;}#sk-container-id-4 div.sk-serial {display: flex;flex-direction: column;align-items: center;background-color: white;padding-right: 0.2em;padding-left: 0.2em;position: relative;}#sk-container-id-4 div.sk-item {position: relative;z-index: 1;}#sk-container-id-4 div.sk-parallel {display: flex;align-items: stretch;justify-content: center;background-color: white;position: relative;}#sk-container-id-4 div.sk-item::before, #sk-container-id-4 div.sk-parallel-item::before {content: \"\";position: absolute;border-left: 1px solid gray;box-sizing: border-box;top: 0;bottom: 0;left: 50%;z-index: -1;}#sk-container-id-4 div.sk-parallel-item {display: flex;flex-direction: column;z-index: 1;position: relative;background-color: white;}#sk-container-id-4 div.sk-parallel-item:first-child::after {align-self: flex-end;width: 50%;}#sk-container-id-4 div.sk-parallel-item:last-child::after {align-self: flex-start;width: 50%;}#sk-container-id-4 div.sk-parallel-item:only-child::after {width: 0;}#sk-container-id-4 div.sk-dashed-wrapped {border: 1px dashed gray;margin: 0 0.4em 0.5em 0.4em;box-sizing: border-box;padding-bottom: 0.4em;background-color: white;}#sk-container-id-4 div.sk-label label {font-family: monospace;font-weight: bold;display: inline-block;line-height: 1.2em;}#sk-container-id-4 div.sk-label-container {text-align: center;}#sk-container-id-4 div.sk-container {/* jupyter's `normalize.less` sets `[hidden] { display: none; }` but bootstrap.min.css set `[hidden] { display: none !important; }` so we also need the `!important` here to be able to override the default hidden behavior on the sphinx rendered scikit-learn.org. See: https://github.com/scikit-learn/scikit-learn/issues/21755 */display: inline-block !important;position: relative;}#sk-container-id-4 div.sk-text-repr-fallback {display: none;}</style><div id=\"sk-container-id-4\" class=\"sk-top-container\"><div class=\"sk-text-repr-fallback\"><pre>DecisionTreeClassifier(max_depth=3, min_samples_leaf=5, random_state=100)</pre><b>In a Jupyter environment, please rerun this cell to show the HTML representation or trust the notebook. <br />On GitHub, the HTML representation is unable to render, please try loading this page with nbviewer.org.</b></div><div class=\"sk-container\" hidden><div class=\"sk-item\"><div class=\"sk-estimator sk-toggleable\"><input class=\"sk-toggleable__control sk-hidden--visually\" id=\"sk-estimator-id-4\" type=\"checkbox\" checked><label for=\"sk-estimator-id-4\" class=\"sk-toggleable__label sk-toggleable__label-arrow\">DecisionTreeClassifier</label><div class=\"sk-toggleable__content\"><pre>DecisionTreeClassifier(max_depth=3, min_samples_leaf=5, random_state=100)</pre></div></div></div></div></div>"
      ],
      "text/plain": [
       "DecisionTreeClassifier(max_depth=3, min_samples_leaf=5, random_state=100)"
      ]
     },
     "execution_count": 22,
     "metadata": {},
     "output_type": "execute_result"
    }
   ],
   "source": [
    "#Nu kan vi oprette vores beslutningstræmodel og træne den på træningsdatasættet. \n",
    "#Vi kan bruge Scikit-Learn's \"DecisionTreeClassifier\n",
    "\n",
    "\"\"\"\n",
    "Vi opretter beslutningstræmodellen ved hjælp af \"DecisionTreeClassifier()\" funktionen fra Scikit-Learn. \n",
    "Vi angiver nogle parametre til modellen, såsom \"criterion\", \"random_state\", \"max_depth\" \n",
    "og \"min_samples_leaf\". Disse parametre bestemmer, hvordan modellen træffes beslutninger \n",
    "og hvordan den oprettes. Vi træner derefter modellen på træningsdatasættet ved hjælp af \"fit()\" funktionen\n",
    "\"\"\"\n",
    "\n",
    "# Create and train the model\n",
    "dt = DecisionTreeClassifier(criterion = \"gini\", random_state=100, max_depth=3, min_samples_leaf=5)\n",
    "dt.fit(X_train, y_train)\n",
    "\n"
   ]
  },
  {
   "cell_type": "code",
   "execution_count": 23,
   "id": "d01a2999-a778-47da-9c62-ff04ddb08a2b",
   "metadata": {},
   "outputs": [
    {
     "name": "stdout",
     "output_type": "stream",
     "text": [
      "Confusion matrix:\n",
      "[[ 0  5  6]\n",
      " [ 0 48  7]\n",
      " [ 0 11 48]]\n",
      "Accuracy score: 0.768\n",
      "Classification report:\n",
      "              precision    recall  f1-score   support\n",
      "\n",
      "           B       1.00      0.00      0.00        11\n",
      "           L       0.75      0.87      0.81        55\n",
      "           R       0.79      0.81      0.80        59\n",
      "\n",
      "    accuracy                           0.77       125\n",
      "   macro avg       0.85      0.56      0.54       125\n",
      "weighted avg       0.79      0.77      0.73       125\n",
      "\n"
     ]
    }
   ],
   "source": [
    "#Nu kan vi bruge den trænede model til at forudsige labelsne for testdatasættet og evaluere dens ydeevne \n",
    "#ved hjælp af nøjagtigheds-score og klassifikationsrapport\n",
    "\n",
    "\"\"\"\n",
    "Vi bruger den trænede beslutningstræmodel til at forudsige labelsne for testdatasættet \n",
    "ved hjælp af \"predict()\" funktionen. Vi sammenligner de forudsagte labels med de rigtige labels \n",
    "og beregner nøjagtigheden ved hjælp af \"accuracy_score()\" funktionen. \n",
    "Vi viser også en klassifikationsrapport ved hjælp af \"classification_report()\" funktionen, \n",
    "som viser præcision, recall og F1-score for hver label\n",
    "\n",
    "Klassifikationsrapporten viser præcision, recall og F1-score for hver label i testdatasættet. \n",
    "Præcision måler andelen af forudsagte positive labels, der faktisk var positive. \n",
    "Recall måler andelen af positive labels i datasættet, der blev forudsagt korrekt. \n",
    "F1-score er en kombination af præcision og recall, som beregner den harmoniske gennemsnit af de to værdier.\n",
    "\n",
    "Rapporten inkluderer også det vægtede gennemsnit og den gennemsnitlige score for alle labels. \n",
    "Det vægtede gennemsnit tager hensyn til, hvor mange samples der tilhører hver label, \n",
    "mens den gennemsnitlige score er gennemsnittet af præcision, recall og F1-score for alle labels.\n",
    "\n",
    "På denne måde kan vi bruge klassifikationsrapporten til at evaluere, \n",
    "hvor godt vores beslutningstræmodel præsterer på de forskellige labels og i gennemsnit.\n",
    "\"\"\"\n",
    "\n",
    "y_pred = dt.predict(X_test)\n",
    "\n",
    "#Confusion matrix kan hjælpe med at identificere, hvilke labels der er sværere at forudsige \n",
    "#og hvor modellen gør fejl\n",
    "cm = confusion_matrix(y_test, y_pred)\n",
    "\n",
    "print(\"Confusion matrix:\")\n",
    "print(cm)\n",
    "\n",
    "print(\"Accuracy score:\", accuracy_score(y_test, y_pred))\n",
    "print(\"Classification report:\")\n",
    "print(classification_report(y_test, y_pred, zero_division=1))\n"
   ]
  },
  {
   "cell_type": "code",
   "execution_count": 24,
   "id": "9691800e-19cb-4eb6-910a-c4cf61c824e5",
   "metadata": {},
   "outputs": [
    {
     "name": "stdout",
     "output_type": "stream",
     "text": [
      "Standard model accuracy: 0.76\n",
      "Best hyperparameters: {'max_depth': 5}\n",
      "Best model accuracy: 0.728\n"
     ]
    }
   ],
   "source": [
    "\n",
    "from sklearn.model_selection import GridSearchCV\n",
    "\n",
    "# Opret en beslutningstræmodel med standard hyperparametre\n",
    "dt = DecisionTreeClassifier(random_state=42)\n",
    "\n",
    "# Træn modellen på træningsdatasættet\n",
    "dt.fit(X_train, y_train)\n",
    "\n",
    "# Lav forudsigelser på testdatasættet\n",
    "y_pred = dt.predict(X_test)\n",
    "\n",
    "# Evaluer modellens præstation\n",
    "print(\"Standard model accuracy:\", accuracy_score(y_test, y_pred))\n",
    "\n",
    "# Definer et gitter af mulige værdier for max_depth parameteren\n",
    "param_grid = {\"max_depth\": [1, 2, 3, 4, 5]}\n",
    "\n",
    "# Opret et GridSearchCV objekt\n",
    "grid_search = GridSearchCV(dt, param_grid, cv=5)\n",
    "\n",
    "# Udfør en gittersøgning for at finde den bedste max_depth parameter\n",
    "grid_search.fit(X_train, y_train)\n",
    "\n",
    "# Vis den bedste kombination af hyperparametre\n",
    "print(\"Best hyperparameters:\", grid_search.best_params_)\n",
    "\n",
    "# Lav forudsigelser på testdatasættet med den bedste model\n",
    "y_pred = grid_search.predict(X_test)\n",
    "\n",
    "# Evaluer den bedste models præstation\n",
    "print(\"Best model accuracy:\", accuracy_score(y_test, y_pred))\n"
   ]
  },
  {
   "cell_type": "code",
   "execution_count": 25,
   "id": "559a2f60-d46e-4afe-bab3-3449c7dc3d25",
   "metadata": {},
   "outputs": [
    {
     "name": "stdout",
     "output_type": "stream",
     "text": [
      "Standard model accuracy: 0.76\n",
      "Best hyperparameters: {'min_samples_leaf': 5}\n",
      "Best model accuracy: 0.768\n"
     ]
    }
   ],
   "source": [
    "\n",
    "\n",
    "# Opret en beslutningstræmodel med standard hyperparametre\n",
    "dt = DecisionTreeClassifier(random_state=42)\n",
    "\n",
    "# Træn modellen på træningsdatasættet\n",
    "dt.fit(X_train, y_train)\n",
    "\n",
    "# Lav forudsigelser på testdatasættet\n",
    "y_pred = dt.predict(X_test)\n",
    "\n",
    "# Evaluer modellens præstation\n",
    "print(\"Standard model accuracy:\", accuracy_score(y_test, y_pred))\n",
    "\n",
    "# Definer et gitter af mulige værdier for min_samples_leaf parameteren\n",
    "param_grid = {\"min_samples_leaf\": [1, 2, 3, 4, 5]}\n",
    "\n",
    "# Opret et GridSearchCV objekt\n",
    "grid_search = GridSearchCV(dt, param_grid, cv=5)\n",
    "\n",
    "# Udfør en gittersøgning for at finde den bedste min_samples_leaf parameter\n",
    "grid_search.fit(X_train, y_train)\n",
    "\n",
    "# Vis den bedste kombination af hyperparametre\n",
    "print(\"Best hyperparameters:\", grid_search.best_params_)\n",
    "\n",
    "# Lav forudsigelser på testdatasættet med den bedste model\n",
    "y_pred = grid_search.predict(X_test)\n",
    "\n",
    "# Evaluer den bedste models præstation\n",
    "print(\"Best model accuracy:\", accuracy_score(y_test, y_pred))\n"
   ]
  },
  {
   "cell_type": "code",
   "execution_count": 28,
   "id": "72ef2897-332e-4071-939a-088f83d81731",
   "metadata": {},
   "outputs": [
    {
     "name": "stdout",
     "output_type": "stream",
     "text": [
      "Selected features: [ True  True  True False]\n",
      "Selected feature names: ['feature1', 'feature2', 'feature3']\n"
     ]
    }
   ],
   "source": [
    "from sklearn.feature_selection import RFE\n",
    "\n",
    "# Opret en beslutningstræmodel med standard hyperparametre\n",
    "dt = DecisionTreeClassifier(random_state=42)\n",
    "\n",
    "# Definer en RFE model med 3 features\n",
    "rfe = RFE(dt, n_features_to_select=3)\n",
    "\n",
    "# Anvend RFE på træningsdatasættet\n",
    "rfe.fit(X_train, y_train)\n",
    "\n",
    "# Vis de mest relevante features\n",
    "selected_features = rfe.support_\n",
    "print(\"Selected features:\", selected_features)\n",
    "\n",
    "# Vis navnene på de mest relevante features\n",
    "all_features = [\"feature1\", \"feature2\", \"feature3\", \"feature4\"]\n",
    "selected_feature_names = [all_features[i] for i in range(len(selected_features)) if selected_features[i]]\n",
    "print(\"Selected feature names:\", selected_feature_names)\n",
    "\n"
   ]
  },
  {
   "cell_type": "code",
   "execution_count": null,
   "id": "541e57ee-279b-4aee-85fd-6d3bfe748b39",
   "metadata": {},
   "outputs": [],
   "source": []
  }
 ],
 "metadata": {
  "kernelspec": {
   "display_name": "Python 3 (ipykernel)",
   "language": "python",
   "name": "python3"
  },
  "language_info": {
   "codemirror_mode": {
    "name": "ipython",
    "version": 3
   },
   "file_extension": ".py",
   "mimetype": "text/x-python",
   "name": "python",
   "nbconvert_exporter": "python",
   "pygments_lexer": "ipython3",
   "version": "3.10.6"
  }
 },
 "nbformat": 4,
 "nbformat_minor": 5
}
