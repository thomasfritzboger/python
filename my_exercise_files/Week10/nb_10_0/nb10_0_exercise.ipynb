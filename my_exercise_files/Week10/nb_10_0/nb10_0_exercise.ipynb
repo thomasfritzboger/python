{
 "cells": [
  {
   "cell_type": "code",
   "execution_count": 30,
   "id": "bea5bdbe-4f31-4204-8b75-e97194bd6a42",
   "metadata": {},
   "outputs": [],
   "source": [
    "import numpy as np \n",
    "import pandas as pd \n",
    "from sklearn.metrics import confusion_matrix \n",
    "from sklearn.model_selection import train_test_split \n",
    "from sklearn.tree import DecisionTreeClassifier \n",
    "from sklearn.metrics import accuracy_score \n",
    "from sklearn.metrics import classification_report "
   ]
  },
  {
   "cell_type": "code",
   "execution_count": 33,
   "id": "a2cad732-eaf1-45d7-8e80-6528a2cc152b",
   "metadata": {},
   "outputs": [
    {
     "name": "stdout",
     "output_type": "stream",
     "text": [
      "Confusion Matrix:\n",
      "[[ 0  5  8]\n",
      " [ 0 78 25]\n",
      " [ 0  7 65]]\n",
      "\n",
      "Accuracy Score: 0.7606382978723404\n",
      "\n",
      "Classification Report:\n",
      "              precision    recall  f1-score   support\n",
      "\n",
      "           B       0.00      0.00      0.00        13\n",
      "           L       0.87      0.76      0.81       103\n",
      "           R       0.66      0.90      0.76        72\n",
      "\n",
      "    accuracy                           0.76       188\n",
      "   macro avg       0.51      0.55      0.52       188\n",
      "weighted avg       0.73      0.76      0.74       188\n",
      "\n"
     ]
    }
   ],
   "source": [
    "# Load the dataset from URL and specify column names\n",
    "url = \"https://archive.ics.uci.edu/ml/machine-learning-databases/balance-scale/balance-scale.data\"\n",
    "names = ['label', 'left_weight', 'left_dist', 'right_weight', 'right_dist']\n",
    "dataset = pd.read_csv(url, names=names)\n",
    "\n",
    "\n",
    "# Split the data into input variables (X) and target (y)\n",
    "X = dataset.iloc[:,1:]\n",
    "y = dataset.iloc[:,0]\n",
    "\n",
    "# Split the data into training and test sets\n",
    "X_train, X_test, y_train, y_test = train_test_split(X, y, test_size=0.3, random_state=60)\n",
    "\n",
    "\n",
    "# Create a decision tree classifier object with specified parameters\n",
    "clf = DecisionTreeClassifier(criterion=\"gini\", random_state=100, max_depth=3, min_samples_leaf=5)\n",
    "\n",
    "# Fit the decision tree classifier to the training data\n",
    "clf.fit(X_train, y_train)\n",
    "\n",
    "# Use the decision tree classifier to make predictions on the test data\n",
    "y_pred = clf.predict(X_test)\n",
    "\n",
    "# Calculate and print confusion matrix, accuracy score, and classification report\n",
    "print(\"Confusion Matrix:\")\n",
    "print(confusion_matrix(y_test, y_pred))\n",
    "\n",
    "print(\"\\nAccuracy Score:\", accuracy_score(y_test, y_pred))\n",
    "\n",
    "print(\"\\nClassification Report:\")\n",
    "print(classification_report(y_test, y_pred, zero_division=0))\n"
   ]
  },
  {
   "cell_type": "code",
   "execution_count": null,
   "id": "02f19096-8272-4bc3-b29a-9e565bec9807",
   "metadata": {},
   "outputs": [],
   "source": []
  }
 ],
 "metadata": {
  "kernelspec": {
   "display_name": "Python 3 (ipykernel)",
   "language": "python",
   "name": "python3"
  },
  "language_info": {
   "codemirror_mode": {
    "name": "ipython",
    "version": 3
   },
   "file_extension": ".py",
   "mimetype": "text/x-python",
   "name": "python",
   "nbconvert_exporter": "python",
   "pygments_lexer": "ipython3",
   "version": "3.10.6"
  }
 },
 "nbformat": 4,
 "nbformat_minor": 5
}
