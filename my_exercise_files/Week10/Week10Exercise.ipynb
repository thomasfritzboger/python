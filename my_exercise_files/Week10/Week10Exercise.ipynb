{
 "cells": [
  {
   "cell_type": "code",
   "execution_count": 2,
   "id": "92925ca8-42e7-492d-b43a-9600cb6413ab",
   "metadata": {},
   "outputs": [
    {
     "name": "stdout",
     "output_type": "stream",
     "text": [
      "Hej\n",
      "2\n"
     ]
    }
   ],
   "source": [
    "# example of loading the cifar10 dataset\n",
    "from matplotlib import pyplot\n",
    "print('Hej')from keras.datasets import cifar10\n",
    "print(2)\n"
   ]
  },
  {
   "cell_type": "code",
   "execution_count": 1,
   "id": "4781824a-5de1-4b04-9fe3-33fe05db2775",
   "metadata": {},
   "outputs": [
    {
     "ename": "NameError",
     "evalue": "name 'cifar10' is not defined",
     "output_type": "error",
     "traceback": [
      "\u001b[0;31m---------------------------------------------------------------------------\u001b[0m",
      "\u001b[0;31mNameError\u001b[0m                                 Traceback (most recent call last)",
      "Cell \u001b[0;32mIn [1], line 2\u001b[0m\n\u001b[1;32m      1\u001b[0m \u001b[38;5;66;03m# load dataset\u001b[39;00m\n\u001b[0;32m----> 2\u001b[0m (trainX, trainy), (testX, testy) \u001b[38;5;241m=\u001b[39m \u001b[43mcifar10\u001b[49m\u001b[38;5;241m.\u001b[39mload_data()\n\u001b[1;32m      3\u001b[0m \u001b[38;5;66;03m# summarize loaded dataset\u001b[39;00m\n\u001b[1;32m      4\u001b[0m \u001b[38;5;28mprint\u001b[39m(\u001b[38;5;124m'\u001b[39m\u001b[38;5;124mTrain: X=\u001b[39m\u001b[38;5;132;01m%s\u001b[39;00m\u001b[38;5;124m, y=\u001b[39m\u001b[38;5;132;01m%s\u001b[39;00m\u001b[38;5;124m'\u001b[39m \u001b[38;5;241m%\u001b[39m (trainX\u001b[38;5;241m.\u001b[39mshape, trainy\u001b[38;5;241m.\u001b[39mshape))\n",
      "\u001b[0;31mNameError\u001b[0m: name 'cifar10' is not defined"
     ]
    }
   ],
   "source": [
    "# load dataset\n",
    "(trainX, trainy), (testX, testy) = cifar10.load_data()\n",
    "# summarize loaded dataset\n",
    "print('Train: X=%s, y=%s' % (trainX.shape, trainy.shape))\n",
    "print('Test: X=%s, y=%s' % (testX.shape, testy.shape))\n",
    "# plot first few images\n",
    "for i in range(9):\n",
    " # define subplot\n",
    " pyplot.subplot(330 + 1 + i)\n",
    " # plot raw pixel data\n",
    " pyplot.imshow(trainX[i])\n",
    "# show the figure\n",
    "pyplot.show()"
   ]
  },
  {
   "cell_type": "code",
   "execution_count": null,
   "id": "4955771b-0bb5-4fed-ad47-d2ef89f1f05c",
   "metadata": {},
   "outputs": [],
   "source": []
  }
 ],
 "metadata": {
  "kernelspec": {
   "display_name": "Python 3 (ipykernel)",
   "language": "python",
   "name": "python3"
  },
  "language_info": {
   "codemirror_mode": {
    "name": "ipython",
    "version": 3
   },
   "file_extension": ".py",
   "mimetype": "text/x-python",
   "name": "python",
   "nbconvert_exporter": "python",
   "pygments_lexer": "ipython3",
   "version": "3.10.6"
  }
 },
 "nbformat": 4,
 "nbformat_minor": 5
}
